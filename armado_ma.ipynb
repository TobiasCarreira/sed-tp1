{
 "cells": [
  {
   "cell_type": "code",
   "execution_count": 34,
   "metadata": {},
   "outputs": [],
   "source": [
    "def producto(p, p0, r,):\n",
    "    \"\"\"\n",
    "    Toma el nombre del producto p (en realidad, va a ser p0,p1,p2...,pN),\n",
    "    su volumen inicial p0 y su ratio de crecimiento.\n",
    "    \n",
    "    Devuelve el str de la celda del producto.\n",
    "    \"\"\"\n",
    "    initial_value = f'initialVolume : {p0}'\n",
    "    growthRate = f'growthRate : {r}'\n",
    "    return f\"[{p}]\\n\" + initial_value + '\\n' + growthRate + '\\n'\n",
    "\n",
    "def componentes(p):\n",
    "    \"\"\"\n",
    "    Suma componentes\n",
    "    \"\"\"\n",
    "    comp = f'{p}@Product'\n",
    "    return comp\n",
    "\n",
    "def link_in_and_out(p):\n",
    "    \"\"\"\n",
    "    Suma los dos links asociados a producto vs mercado\n",
    "    \"\"\"\n",
    "    link_out_p = 'link : ' + f'demand@{p} ' + f'demand{p}@market'\n",
    "    \n",
    "    link_in_m = 'link : ' + f'supply{p}@market ' + f'supply@{p}'\n",
    "    \n",
    "    return link_out_p + '\\n' + link_in_m + '\\n'"
   ]
  },
  {
   "cell_type": "code",
   "execution_count": 35,
   "metadata": {
    "scrolled": false
   },
   "outputs": [],
   "source": [
    "def global_ma(n_p, list_p0, list_r):\n",
    "    comp = 'components : ' + ' '.join([componentes(f'p{p}') for p in range(n_p)])\n",
    "    links =  ''.join([link_in_and_out(f'p{p}') for p in range(n_p)])\n",
    "    productos = ''.join([producto(f'p{p}', list_p0[p], list_r[p]) for p in range(n_p)])\n",
    "    return comp + '\\n\\n' + links + '\\n\\n' + productos"
   ]
  },
  {
   "cell_type": "code",
   "execution_count": 36,
   "metadata": {},
   "outputs": [
    {
     "name": "stdout",
     "output_type": "stream",
     "text": [
      "components : p0@Product p1@Product p2@Product p3@Product p4@Product\n",
      "\n",
      "link : demand@p0 demandp0@market\n",
      "link : supplyp0@market supply@p0\n",
      "link : demand@p1 demandp1@market\n",
      "link : supplyp1@market supply@p1\n",
      "link : demand@p2 demandp2@market\n",
      "link : supplyp2@market supply@p2\n",
      "link : demand@p3 demandp3@market\n",
      "link : supplyp3@market supply@p3\n",
      "link : demand@p4 demandp4@market\n",
      "link : supplyp4@market supply@p4\n",
      "\n",
      "\n",
      "[p0]\n",
      "initialVolume : 0\n",
      "growthRate : 0\n",
      "[p1]\n",
      "initialVolume : 1\n",
      "growthRate : 1\n",
      "[p2]\n",
      "initialVolume : 2\n",
      "growthRate : 2\n",
      "[p3]\n",
      "initialVolume : 3\n",
      "growthRate : 3\n",
      "[p4]\n",
      "initialVolume : 4\n",
      "growthRate : 4\n",
      "\n"
     ]
    }
   ],
   "source": [
    "print(global_ma(5, [i for i in range(5)], [i for i in range(5)]))"
   ]
  },
  {
   "cell_type": "code",
   "execution_count": 14,
   "metadata": {},
   "outputs": [
    {
     "name": "stdout",
     "output_type": "stream",
     "text": [
      "link : supplyp0@p0 supplyp0@market\n",
      "link : demandp0@p0 demandp0@market\n",
      "link : supplyp0@market supplyp0@p0\n",
      "link : supplyp0@p0 supplyp0@market\n"
     ]
    }
   ],
   "source": []
  },
  {
   "cell_type": "code",
   "execution_count": null,
   "metadata": {},
   "outputs": [],
   "source": []
  }
 ],
 "metadata": {
  "kernelspec": {
   "display_name": "Python 3 (ipykernel)",
   "language": "python",
   "name": "python3"
  },
  "language_info": {
   "codemirror_mode": {
    "name": "ipython",
    "version": 3
   },
   "file_extension": ".py",
   "mimetype": "text/x-python",
   "name": "python",
   "nbconvert_exporter": "python",
   "pygments_lexer": "ipython3",
   "version": "3.8.3"
  }
 },
 "nbformat": 4,
 "nbformat_minor": 4
}
