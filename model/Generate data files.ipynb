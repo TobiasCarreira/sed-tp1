{
 "cells": [
  {
   "cell_type": "code",
   "execution_count": 68,
   "id": "7cd128be-15e3-40d2-b32e-dd31d1062544",
   "metadata": {},
   "outputs": [],
   "source": [
    "import pandas as pd\n",
    "import numpy as np\n",
    "import pyreadstat"
   ]
  },
  {
   "cell_type": "code",
   "execution_count": 69,
   "id": "125d7e7f-d841-4326-b3c0-5dc50962f1c6",
   "metadata": {},
   "outputs": [],
   "source": [
    "gdps = pd.read_csv(\"/home/vpaz/Downloads/total_gdp_us_inflation_adjusted.csv\")\n",
    "gdps = gdps[[\"country\", *[str(year) for year in range(1995, 2019)]]].set_index(\"country\")\n",
    "\n",
    "def to_number(x):\n",
    "    if isinstance(x, (float, int)):\n",
    "        return x\n",
    "    if \"B\" in x:\n",
    "        return float(x[:-1]) * 1_000_000_000\n",
    "    elif \"M\" in x:\n",
    "        return float(x[:-1]) * 1_000_000\n",
    "    else:\n",
    "        try:\n",
    "            return float(x)\n",
    "        except ValueError:\n",
    "            return np.NaN\n",
    "    \n",
    "for year in range(1995, 2019):\n",
    "    gdps[str(year)] = gdps[str(year)].map(to_number)\n",
    "\n",
    "# desicion: usar el interpolate para completar datos faltantes\n",
    "gdps = gdps.interpolate()"
   ]
  },
  {
   "cell_type": "code",
   "execution_count": 70,
   "id": "ced26916-639c-4657-bc68-b1e05aa29948",
   "metadata": {},
   "outputs": [],
   "source": [
    "dtafile = \"/home/vpaz/Desktop/location.dta\"\n",
    "locations_gdp_df, meta = pyreadstat.read_dta(dtafile)\n",
    "locations_gdp_df = locations_gdp_df.merge(gdps, right_on=\"country\", left_on=\"location_name_short_en\")"
   ]
  },
  {
   "cell_type": "code",
   "execution_count": 71,
   "metadata": {},
   "outputs": [
    {
     "name": "stderr",
     "output_type": "stream",
     "text": [
      "/home/vpaz/envs/sed/lib/python3.8/site-packages/IPython/core/interactiveshell.py:3444: DtypeWarning: Columns (5) have mixed types.Specify dtype option on import or set low_memory=False.\n",
      "  exec(code_obj, self.user_global_ns, self.user_ns)\n"
     ]
    }
   ],
   "source": [
    "df = pd.read_csv(\"data/exports.csv\", index_col=0)\n",
    "df = df.drop(columns=[\"partner_id\", \"year\", \"import_value\", \"sitc_eci\", \"sitc_coi\", \"partner_code\", \"sitc_product_code\"], errors=\"ignore\") \\\n",
    "    .groupby([\"location_id\", \"location_code\", \"product_id\"], as_index=False).sum()\n",
    "\n",
    "products_df = pd.read_csv(\"data/datos_productos.csv\")\n"
   ]
  },
  {
   "cell_type": "code",
   "execution_count": 72,
   "metadata": {},
   "outputs": [],
   "source": [
    "products_df = products_df[pd.to_numeric(products_df.producto_code, errors='coerce').notnull()]\n",
    "\n",
    "products_df.producto_code = pd.to_numeric(products_df.producto_code)\n",
    "merged_products_df = products_df.merge(df, left_on=\"producto_code\", right_on=\"product_id\")\n",
    "products = frozenset((x.label, x.producto_code, x.initialVolume, x.b, x.t0) for _, x in merged_products_df[[\"label\", \"producto_code\", \"initialVolume\", \"b\", \"t0\"]].iterrows())\n",
    "pd.DataFrame(data=products, columns=[\"label\", \"producto_code\", \"initialVolume\", \"b\", \"t0\"]).to_csv(\"products.csv\")"
   ]
  },
  {
   "cell_type": "code",
   "execution_count": 73,
   "metadata": {},
   "outputs": [],
   "source": [
    "merged_products_df.drop(columns=[\"producto_code\", \"initialVolume\", \"b\", \"t0\"])\n",
    "countries_df = merged_products_df.drop(columns=[\"producto_code\", \"initialVolume\", \"b\", \"t0\"]).merge(locations_gdp_df[[\"location_id\", \"location_code\", \"1995\"]]) # implicit on location_id\n",
    "product_codes = sorted(list(frozenset(countries_df.label)))\n",
    "countries = frozenset((x.location_id, x.location_code, x[\"1995\"]) for _, x in countries_df[[\"location_id\", \"location_code\", \"1995\"]].iterrows())\n",
    "countries_df = countries_df[[\"location_id\", \"label\", \"export_value\"]].groupby([\"location_id\", \"label\"]).sum()\n",
    "# pd.DataFrame(\n",
    "#     data=,\n",
    "#     columns=[\"location_id\", \"location_code\", \"1995\"],\n",
    "# ).to_csv(\"locations_gdp.csv\")"
   ]
  },
  {
   "cell_type": "code",
   "execution_count": 74,
   "metadata": {},
   "outputs": [],
   "source": [
    "countries_info = []\n",
    "for x in countries:\n",
    "    location_id = x[0]\n",
    "    initial_gdp = x[2]\n",
    "    country_info = list(x)\n",
    "    country = countries_df.loc[location_id]\n",
    "    country_exports = [country.loc[p][\"export_value\"] if p in country.index else 0 for p in product_codes]\n",
    "\n",
    "    sum_country_exports = sum(country_exports)\n",
    "    if sum_country_exports > 0:\n",
    "        countries_info.append(country_info + [initial_gdp / sum_country_exports] + country_exports)\n",
    "\n",
    "pd.DataFrame(data=countries_info, columns=[\"location_id\", \"location_code\", \"1995\", \"gdp_over_exports\", *product_codes]).to_csv(\"countries.csv\")\n"
   ]
  }
 ],
 "metadata": {
  "interpreter": {
   "hash": "f8e70465c829819cad25485ecef4e86e5b488cc88165ca941a3b598dcff5f15a"
  },
  "kernelspec": {
   "display_name": "Python 3.8.5 64-bit ('sed': virtualenv)",
   "name": "python3"
  },
  "language_info": {
   "codemirror_mode": {
    "name": "ipython",
    "version": 3
   },
   "file_extension": ".py",
   "mimetype": "text/x-python",
   "name": "python",
   "nbconvert_exporter": "python",
   "pygments_lexer": "ipython3",
   "version": "3.8.5"
  }
 },
 "nbformat": 4,
 "nbformat_minor": 5
}
