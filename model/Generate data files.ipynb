{
 "cells": [
  {
   "cell_type": "code",
   "execution_count": 1,
   "id": "7cd128be-15e3-40d2-b32e-dd31d1062544",
   "metadata": {},
   "outputs": [],
   "source": [
    "import pandas as pd\n",
    "import numpy as np\n",
    "import pyreadstat"
   ]
  },
  {
   "cell_type": "code",
   "execution_count": 15,
   "id": "125d7e7f-d841-4326-b3c0-5dc50962f1c6",
   "metadata": {},
   "outputs": [
    {
     "name": "stdout",
     "output_type": "stream",
     "text": [
      "                              1995          1996          1997          1998  \\\n",
      "country                                                                        \n",
      "Aruba                 2.170000e+09  2.320000e+09  2.370000e+09  2.400000e+09   \n",
      "Angola                3.060000e+10  3.280000e+10  3.430000e+10  3.510000e+10   \n",
      "Albania               5.920000e+09  5.280000e+09  5.740000e+09  6.480000e+09   \n",
      "Andorra               2.180000e+09  2.370000e+09  2.450000e+09  2.550000e+09   \n",
      "United Arab Emirates  1.600000e+11  1.730000e+11  1.740000e+11  1.790000e+11   \n",
      "...                            ...           ...           ...           ...   \n",
      "Samoa                 4.430000e+08  4.460000e+08  4.560000e+08  4.660000e+08   \n",
      "Yemen                 1.660000e+10  1.740000e+10  1.850000e+10  1.920000e+10   \n",
      "South Africa          2.430000e+11  2.490000e+11  2.500000e+11  2.560000e+11   \n",
      "Zambia                8.790000e+09  9.120000e+09  9.090000e+09  9.510000e+09   \n",
      "Zimbabwe              1.700000e+10  1.740000e+10  1.790000e+10  1.780000e+10   \n",
      "\n",
      "                              1999          2000          2001          2002  \\\n",
      "country                                                                        \n",
      "Aruba                 2.580000e+09  2.510000e+09  2.420000e+09  2.470000e+09   \n",
      "Angola                3.620000e+10  3.770000e+10  4.280000e+10  4.410000e+10   \n",
      "Albania               6.930000e+09  7.510000e+09  7.850000e+09  8.280000e+09   \n",
      "Andorra               2.640000e+09  2.850000e+09  2.980000e+09  3.240000e+09   \n",
      "United Arab Emirates  1.980000e+11  2.010000e+11  2.060000e+11  2.240000e+11   \n",
      "...                            ...           ...           ...           ...   \n",
      "Samoa                 4.980000e+08  5.330000e+08  5.560000e+08  5.810000e+08   \n",
      "Yemen                 2.030000e+10  2.110000e+10  2.200000e+10  2.280000e+10   \n",
      "South Africa          2.670000e+11  2.740000e+11  2.840000e+11  2.930000e+11   \n",
      "Zambia                9.880000e+09  1.040000e+10  1.090000e+10  1.160000e+10   \n",
      "Zimbabwe              1.720000e+10  1.750000e+10  1.590000e+10  1.320000e+10   \n",
      "\n",
      "                              2003          2004  ...          2009  \\\n",
      "country                                           ...                 \n",
      "Aruba                 2.670000e+09  2.700000e+09  ...  2.390000e+09   \n",
      "Angola                4.890000e+10  5.630000e+10  ...  8.380000e+10   \n",
      "Albania               8.740000e+09  9.220000e+09  ...  1.190000e+10   \n",
      "Andorra               3.510000e+09  3.700000e+09  ...  3.450000e+09   \n",
      "United Arab Emirates  2.450000e+11  2.570000e+11  ...  2.900000e+11   \n",
      "...                            ...           ...  ...           ...   \n",
      "Samoa                 6.080000e+08  6.330000e+08  ...  6.630000e+08   \n",
      "Yemen                 2.370000e+10  2.500000e+10  ...  3.090000e+10   \n",
      "South Africa          3.060000e+11  3.220000e+11  ...  3.750000e+11   \n",
      "Zambia                1.240000e+10  1.340000e+10  ...  2.030000e+10   \n",
      "Zimbabwe              1.240000e+10  1.170000e+10  ...  1.200000e+10   \n",
      "\n",
      "                              2010          2011          2012          2013  \\\n",
      "country                                                                        \n",
      "Aruba                 2.470000e+09  2.440000e+09  2.540000e+09  2.550000e+09   \n",
      "Angola                8.670000e+10  9.410000e+10  9.880000e+10  1.040000e+11   \n",
      "Albania               1.220000e+10  1.240000e+10  1.250000e+10  1.280000e+10   \n",
      "Andorra               3.450000e+09  3.280000e+09  3.160000e+09  3.240000e+09   \n",
      "United Arab Emirates  3.100000e+11  3.240000e+11  3.400000e+11  3.550000e+11   \n",
      "...                            ...           ...           ...           ...   \n",
      "Samoa                 6.910000e+08  6.630000e+08  6.600000e+08  6.600000e+08   \n",
      "Yemen                 2.700000e+10  2.760000e+10  2.900000e+10  2.890000e+10   \n",
      "South Africa          3.880000e+11  3.960000e+11  4.060000e+11  4.140000e+11   \n",
      "Zambia                2.140000e+10  2.300000e+10  2.420000e+10  2.530000e+10   \n",
      "Zimbabwe              1.380000e+10  1.600000e+10  1.640000e+10  1.680000e+10   \n",
      "\n",
      "                              2014          2015          2016          2017  \\\n",
      "country                                                                        \n",
      "Aruba                 2.690000e+09  2.750000e+09  2.810000e+09           NaN   \n",
      "Angola                1.050000e+11  1.020000e+11  1.020000e+11  9.960000e+10   \n",
      "Albania               1.300000e+10  1.350000e+10  1.400000e+10  1.450000e+10   \n",
      "Andorra               3.290000e+09  3.410000e+09  3.420000e+09  3.480000e+09   \n",
      "United Arab Emirates  3.730000e+11  3.840000e+11  3.930000e+11  3.980000e+11   \n",
      "...                            ...           ...           ...           ...   \n",
      "Samoa                 6.890000e+08  7.440000e+08  7.520000e+08  7.360000e+08   \n",
      "Yemen                 2.080000e+10  1.890000e+10  1.790000e+10  1.800000e+10   \n",
      "South Africa          4.190000e+11  4.200000e+11  4.260000e+11  4.300000e+11   \n",
      "Zambia                2.610000e+10  2.700000e+10  2.800000e+10  2.910000e+10   \n",
      "Zimbabwe              1.700000e+10  1.720000e+10  1.800000e+10  1.860000e+10   \n",
      "\n",
      "                              2018  \n",
      "country                             \n",
      "Aruba                          NaN  \n",
      "Angola                9.900000e+10  \n",
      "Albania               1.490000e+10  \n",
      "Andorra               3.550000e+09  \n",
      "United Arab Emirates  4.050000e+11  \n",
      "...                            ...  \n",
      "Samoa                 7.630000e+08  \n",
      "Yemen                          NaN  \n",
      "South Africa          4.300000e+11  \n",
      "Zambia                2.950000e+10  \n",
      "Zimbabwe              1.710000e+10  \n",
      "\n",
      "[176 rows x 24 columns]\n"
     ]
    }
   ],
   "source": [
    "gdps = pd.read_csv(\"/home/vpaz/Downloads/total_gdp_us_inflation_adjusted.csv\")\n",
    "gdps = gdps[[\"country\", *[str(year) for year in range(1995, 2019)]]].set_index(\"country\")\n",
    "\n",
    "def to_number(x):\n",
    "    if isinstance(x, (float, int)):\n",
    "        return x\n",
    "    if \"B\" in x:\n",
    "        return float(x[:-1]) * 1_000_000_000\n",
    "    elif \"M\" in x:\n",
    "        return float(x[:-1]) * 1_000_000\n",
    "    else:\n",
    "        try:\n",
    "            return float(x)\n",
    "        except ValueError:\n",
    "            return np.NaN\n",
    "    \n",
    "for year in range(1995, 2019):\n",
    "    gdps[str(year)] = gdps[str(year)].map(to_number)\n",
    "\n",
    "# desicion: usar el interpolate para completar datos faltantes\n",
    "\n",
    "print(gdps[~gdps[\"1995\"].isnull()])"
   ]
  },
  {
   "cell_type": "code",
   "execution_count": 16,
   "id": "ced26916-639c-4657-bc68-b1e05aa29948",
   "metadata": {},
   "outputs": [],
   "source": [
    "dtafile = \"/home/vpaz/Desktop/location.dta\"\n",
    "locations_gdp_df, meta = pyreadstat.read_dta(dtafile)\n",
    "locations_gdp_df = locations_gdp_df.merge(gdps, right_on=\"country\", left_on=\"location_name_short_en\")"
   ]
  },
  {
   "cell_type": "code",
   "execution_count": 17,
   "metadata": {},
   "outputs": [
    {
     "name": "stderr",
     "output_type": "stream",
     "text": [
      "/home/vpaz/envs/sed/lib/python3.8/site-packages/IPython/core/interactiveshell.py:3444: DtypeWarning: Columns (5) have mixed types.Specify dtype option on import or set low_memory=False.\n",
      "  exec(code_obj, self.user_global_ns, self.user_ns)\n"
     ]
    }
   ],
   "source": [
    "df = pd.read_csv(\"data/exports.csv\", index_col=0)\n",
    "df = df.drop(columns=[\"partner_id\", \"year\", \"import_value\", \"sitc_eci\", \"sitc_coi\", \"partner_code\", \"sitc_product_code\"], errors=\"ignore\") \\\n",
    "    .groupby([\"location_id\", \"location_code\", \"product_id\"], as_index=False).sum()\n",
    "\n",
    "products_df = pd.read_csv(\"data/datos_productos.csv\")\n"
   ]
  },
  {
   "cell_type": "code",
   "execution_count": 18,
   "metadata": {},
   "outputs": [],
   "source": [
    "products_df = products_df[pd.to_numeric(products_df.producto_code, errors='coerce').notnull()]\n",
    "\n",
    "products_df.producto_code = pd.to_numeric(products_df.producto_code)\n",
    "merged_products_df = products_df.merge(df, left_on=\"producto_code\", right_on=\"product_id\")\n",
    "products = frozenset((x.label, x.producto_code, x.initialVolume, x.b, x.t0) for _, x in merged_products_df[[\"label\", \"producto_code\", \"initialVolume\", \"b\", \"t0\"]].iterrows())\n",
    "pd.DataFrame(data=products, columns=[\"label\", \"producto_code\", \"initialVolume\", \"b\", \"t0\"]).to_csv(\"products.csv\")"
   ]
  },
  {
   "cell_type": "code",
   "execution_count": 19,
   "metadata": {},
   "outputs": [],
   "source": [
    "merged_products_df.drop(columns=[\"producto_code\", \"initialVolume\", \"b\", \"t0\"])\n",
    "countries_df = merged_products_df.drop(columns=[\"producto_code\", \"initialVolume\", \"b\", \"t0\"]).merge(locations_gdp_df[[\"location_id\", \"location_code\", \"1995\"]]) # implicit on location_id\n",
    "product_codes = sorted(list(frozenset(countries_df.label)))\n",
    "countries = frozenset((x.location_id, x.location_code, x[\"1995\"]) for _, x in countries_df[[\"location_id\", \"location_code\", \"1995\"]].iterrows())\n",
    "countries_df = countries_df[[\"location_id\", \"label\", \"export_value\"]].groupby([\"location_id\", \"label\"]).sum()\n",
    "# pd.DataFrame(\n",
    "#     data=,\n",
    "#     columns=[\"location_id\", \"location_code\", \"1995\"],\n",
    "# ).to_csv(\"locations_gdp.csv\")"
   ]
  },
  {
   "cell_type": "code",
   "execution_count": 21,
   "metadata": {},
   "outputs": [],
   "source": [
    "countries_info = []\n",
    "for x in countries:\n",
    "    location_id = x[0]\n",
    "    initial_gdp = x[2]\n",
    "    country_info = list(x)\n",
    "    country = countries_df.loc[location_id]\n",
    "    country_exports = [country.loc[p][\"export_value\"] if p in country.index else 0 for p in product_codes]\n",
    "\n",
    "    sum_country_exports = sum(country_exports)\n",
    "    if sum_country_exports > 0 and 0 < initial_gdp / sum_country_exports < 200:\n",
    "        countries_info.append(country_info + [initial_gdp / sum_country_exports] + country_exports)\n",
    "\n",
    "pd.DataFrame(data=countries_info, columns=[\"location_id\", \"location_code\", \"1995\", \"gdp_over_exports\", *product_codes]).to_csv(\"countries.csv\")\n"
   ]
  }
 ],
 "metadata": {
  "interpreter": {
   "hash": "f8e70465c829819cad25485ecef4e86e5b488cc88165ca941a3b598dcff5f15a"
  },
  "kernelspec": {
   "display_name": "Python 3.8.5 64-bit ('sed': virtualenv)",
   "name": "python3"
  },
  "language_info": {
   "codemirror_mode": {
    "name": "ipython",
    "version": 3
   },
   "file_extension": ".py",
   "mimetype": "text/x-python",
   "name": "python",
   "nbconvert_exporter": "python",
   "pygments_lexer": "ipython3",
   "version": "3.8.5"
  }
 },
 "nbformat": 4,
 "nbformat_minor": 5
}
