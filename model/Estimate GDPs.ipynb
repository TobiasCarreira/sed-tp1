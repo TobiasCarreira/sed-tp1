{
 "cells": [
  {
   "cell_type": "code",
   "execution_count": 1,
   "id": "7cd128be-15e3-40d2-b32e-dd31d1062544",
   "metadata": {},
   "outputs": [],
   "source": [
    "import pandas as pd\n",
    "import numpy as np\n",
    "import pyreadstat"
   ]
  },
  {
   "cell_type": "code",
   "execution_count": 5,
   "id": "125d7e7f-d841-4326-b3c0-5dc50962f1c6",
   "metadata": {},
   "outputs": [],
   "source": [
    "gdps = pd.read_csv(\"/home/vpaz/Downloads/total_gdp_us_inflation_adjusted.csv\")\n",
    "gdps = gdps[[\"country\", *[str(year) for year in range(1995, 2019)]]].set_index(\"country\")\n",
    "\n",
    "def to_number(x):\n",
    "    if isinstance(x, (float, int)):\n",
    "        return x\n",
    "    if \"B\" in x:\n",
    "        return float(x[:-1]) * 1_000_000_000\n",
    "    elif \"M\" in x:\n",
    "        return float(x[:-1]) * 1_000_000\n",
    "    else:\n",
    "        try:\n",
    "            return float(x)\n",
    "        except ValueError:\n",
    "            return np.NaN\n",
    "    \n",
    "for year in range(1995, 2019):\n",
    "    gdps[str(year)] = gdps[str(year)].map(to_number)\n",
    "\n",
    "# desicion: usar el interpolate para completar datos faltantes\n",
    "gdps = gdps.interpolate()"
   ]
  },
  {
   "cell_type": "code",
   "execution_count": 9,
   "id": "ced26916-639c-4657-bc68-b1e05aa29948",
   "metadata": {},
   "outputs": [],
   "source": [
    "dtafile = \"/home/vpaz/Desktop/location.dta\"\n",
    "df, meta = pyreadstat.read_dta(dtafile)\n",
    "df = df.merge(gdps, right_on=\"country\", left_on=\"location_name_short_en\")"
   ]
  },
  {
   "cell_type": "code",
   "execution_count": 10,
   "id": "1499c987-4000-426d-98e9-9bdf128694ad",
   "metadata": {},
   "outputs": [],
   "source": [
    "df.to_csv(\"locations_gdp.csv\")"
   ]
  }
 ],
 "metadata": {
  "kernelspec": {
   "display_name": "Python 3.8.5 64-bit ('sed': virtualenv)",
   "language": "python",
   "name": "python385jvsc74a57bd02ce2edf491a47315468e3516cd7380c8ddf250046eaa25aa49db74dbcc80eb2f"
  },
  "language_info": {
   "codemirror_mode": {
    "name": "ipython",
    "version": 3
   },
   "file_extension": ".py",
   "mimetype": "text/x-python",
   "name": "python",
   "nbconvert_exporter": "python",
   "pygments_lexer": "ipython3",
   "version": "3.8.5"
  }
 },
 "nbformat": 4,
 "nbformat_minor": 5
}
