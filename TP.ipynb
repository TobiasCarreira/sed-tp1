{
 "cells": [
  {
   "cell_type": "markdown",
   "source": [
    "# Simulación de Eventos Discretos - TP1\n",
    "\n",
    "TODO: explicar modelo conceptual"
   ],
   "metadata": {}
  },
  {
   "cell_type": "markdown",
   "source": [
    "Hace falta compilar el simulador con los atómicos nuevos:"
   ],
   "metadata": {}
  },
  {
   "cell_type": "code",
   "execution_count": null,
   "source": [
    "%%bash \n",
    "\n",
    "cd src/\n",
    "\n",
    "make"
   ],
   "outputs": [],
   "metadata": {
    "scrolled": true,
    "tags": []
   }
  },
  {
   "cell_type": "markdown",
   "source": [
    "## Atómico Producto"
   ],
   "metadata": {}
  },
  {
   "cell_type": "code",
   "execution_count": null,
   "source": [
    "%%bash\n",
    "\n",
    "cat model/test_product.ma"
   ],
   "outputs": [],
   "metadata": {}
  },
  {
   "cell_type": "code",
   "execution_count": null,
   "source": [
    "%%bash\n",
    "\n",
    "cat model/test_product.ev"
   ],
   "outputs": [],
   "metadata": {}
  },
  {
   "cell_type": "code",
   "execution_count": null,
   "source": [
    "%%bash\n",
    "\n",
    "src/bin/cd++ -m model/test_product.ma \\\n",
    "             -t 10:00:00:000 \\\n",
    "             -l test_product.log \\\n",
    "             -o test_product.out \\\n",
    "             -e model/test_product.ev"
   ],
   "outputs": [],
   "metadata": {}
  },
  {
   "cell_type": "code",
   "execution_count": null,
   "source": [
    "%%bash\n",
    "\n",
    "cat model.out"
   ],
   "outputs": [],
   "metadata": {}
  },
  {
   "cell_type": "markdown",
   "source": [
    "## Atomico Mercado"
   ],
   "metadata": {}
  },
  {
   "cell_type": "code",
   "execution_count": null,
   "source": [
    "%%bash\n",
    "\n",
    "cat model/test_market.ma"
   ],
   "outputs": [],
   "metadata": {}
  },
  {
   "cell_type": "code",
   "execution_count": null,
   "source": [
    "%%bash\n",
    "\n",
    "cat model/test_market.ev"
   ],
   "outputs": [],
   "metadata": {}
  },
  {
   "cell_type": "code",
   "execution_count": 1,
   "source": [
    "%%bash\n",
    "\n",
    "src/bin/cd++ -m model/test_market.ma \\\n",
    "             -t 05:00:00:000 \\\n",
    "             -l test_market.log \\\n",
    "             -o test_market.out \\"
   ],
   "outputs": [
    {
     "output_type": "stream",
     "name": "stdout",
     "text": [
      "PCD++: A Tool to Implement n-Dimensional Cell-DEVS models\n",
      "Version 3.0 - March 2003\n",
      "Troccoli A., Rodriguez D., Wainer G., Barylko A., Beyoglonian J., Lopez A.\n",
      "-----------------------------------------------------------------------------\n",
      "PCD++ Extended States: An extended and improved version of CD++ for Cell-DEVS\n",
      "Version 4.1.2 - December 2018\n",
      "Santi L., Castro, R., Pimás, J.\n",
      "-----------------------------------------------------------------------------\n",
      "Discrete Event Simulation Lab\n",
      "Departamento de Computación\n",
      "Facultad de Ciencias Exactas y Naturales\n",
      "Universidad de Buenos Aires, Argentina\n",
      "-----------------------------------------------------------------------------\n",
      "Compiled for standalone simulation\n",
      "\n",
      "\n",
      "Loading models from model/test_market.ma\n",
      "Loading events from \n",
      "Running parallel simulation. Reading models partition from \n",
      "Model partition details output to: /dev/null*\n",
      "Message log: test_market.log\n",
      "Output to: test_market.out\n",
      "Tolerance set to: 1e-08\n",
      "Configuration to show real numbers: Width = 12 - Precision = 5\n",
      "Quantum: Not used\n",
      "Evaluate Debug Mode = OFF\n",
      "Flat Cell Debug Mode = OFF\n",
      "Debug Cell Rules Mode = OFF\n",
      "Temporary File created by Preprocessor = /tmp/fileeDi2lr\n",
      "Printing parser information = OFF\n",
      "\n",
      "Stop at time: 05:00:00:000:0\n",
      "Aborting simulation...\n"
     ]
    },
    {
     "output_type": "stream",
     "name": "stderr",
     "text": [
      "Exception MException thrown!\n",
      "Description: Data not found!!!\n",
      "R(etry), I(gnore), P(anic)?\n",
      "Thrown in: \n",
      "\tFile: ini.cpp - Method: definition - Line: 55\n",
      "Description: \n",
      "\tp0/initialVolume Not Found!\n"
     ]
    }
   ],
   "metadata": {}
  },
  {
   "cell_type": "code",
   "execution_count": 2,
   "source": [
    "%%bash\n",
    "\n",
    "cat test_market.out"
   ],
   "outputs": [
    {
     "output_type": "stream",
     "name": "stdout",
     "text": [
      "00:00:00:000:0 supply_p0   1000.00000\n",
      "00:00:00:000:0 supply_p1   1000.00000\n",
      "01:00:00:000:0 supply_p0   1000.00000\n",
      "01:00:00:000:0 supply_p1   1000.00000\n",
      "02:00:00:000:0 supply_p0   1000.00000\n",
      "02:00:00:000:0 supply_p1   1000.00000\n",
      "03:00:00:000:0 supply_p0   1000.00000\n",
      "03:00:00:000:0 supply_p1   1000.00000\n",
      "04:00:00:000:0 supply_p0   1000.00000\n",
      "04:00:00:000:0 supply_p1   1000.00000\n",
      "05:00:00:000:0 supply_p0   1000.00000\n",
      "05:00:00:000:0 supply_p1   1000.00000\n"
     ]
    }
   ],
   "metadata": {}
  },
  {
   "cell_type": "code",
   "execution_count": 4,
   "source": [
    "%%bash\n",
    "\n",
    "cat test_market.log01"
   ],
   "outputs": [
    {
     "output_type": "stream",
     "name": "stdout",
     "text": [
      "0 / L / I / 00:00:00:000:0 / top(05) / market(01)\n",
      "0 / L / X / 00:00:00:000:0 / top(05) / supply_c0 / [1800, 3100] / market(01)\n",
      "0 / L / X / 00:00:00:000:0 / top(05) / demand_p0 /   1000.00000 / market(01)\n",
      "0 / L / X / 00:00:00:000:0 / top(05) / demand_p1 /   1000.00000 / market(01)\n",
      "0 / L / * / 00:00:00:000:0 / top(05) / market(01)\n",
      "0 / L / @ / 00:00:00:000:0 / top(05) / market(01)\n",
      "0 / L / * / 00:00:00:000:0 / top(05) / market(01)\n",
      "0 / L / X / 00:00:00:000:0 / top(05) / supply_c0 / [1000, 1000] / market(01)\n",
      "0 / L / * / 00:00:00:000:0 / top(05) / market(01)\n",
      "0 / L / @ / 00:00:00:000:0 / top(05) / market(01)\n",
      "0 / L / * / 00:00:00:000:0 / top(05) / market(01)\n",
      "0 / L / X / 00:00:00:000:0 / top(05) / supply_c0 / [1000, 1000] / market(01)\n",
      "0 / L / * / 00:00:00:000:0 / top(05) / market(01)\n",
      "0 / L / @ / 00:00:00:000:0 / top(05) / market(01)\n",
      "0 / L / * / 00:00:00:000:0 / top(05) / market(01)\n",
      "0 / L / X / 01:00:00:000:0 / top(05) / demand_p0 /   1000.00000 / market(01)\n",
      "0 / L / X / 01:00:00:000:0 / top(05) / demand_p1 /   1000.00000 / market(01)\n",
      "0 / L / * / 01:00:00:000:0 / top(05) / market(01)\n",
      "0 / L / @ / 01:00:00:000:0 / top(05) / market(01)\n",
      "0 / L / * / 01:00:00:000:0 / top(05) / market(01)\n",
      "0 / L / X / 01:00:00:000:0 / top(05) / supply_c0 / [1000, 1000] / market(01)\n",
      "0 / L / * / 01:00:00:000:0 / top(05) / market(01)\n",
      "0 / L / @ / 01:00:00:000:0 / top(05) / market(01)\n",
      "0 / L / * / 01:00:00:000:0 / top(05) / market(01)\n",
      "0 / L / X / 01:00:00:000:0 / top(05) / supply_c0 / [1000, 1000] / market(01)\n",
      "0 / L / * / 01:00:00:000:0 / top(05) / market(01)\n",
      "0 / L / @ / 01:00:00:000:0 / top(05) / market(01)\n",
      "0 / L / * / 01:00:00:000:0 / top(05) / market(01)\n",
      "0 / L / X / 02:00:00:000:0 / top(05) / demand_p0 /   1000.00000 / market(01)\n",
      "0 / L / X / 02:00:00:000:0 / top(05) / demand_p1 /   1000.00000 / market(01)\n",
      "0 / L / * / 02:00:00:000:0 / top(05) / market(01)\n",
      "0 / L / @ / 02:00:00:000:0 / top(05) / market(01)\n",
      "0 / L / * / 02:00:00:000:0 / top(05) / market(01)\n",
      "0 / L / X / 02:00:00:000:0 / top(05) / supply_c0 / [1000, 1000] / market(01)\n",
      "0 / L / * / 02:00:00:000:0 / top(05) / market(01)\n",
      "0 / L / @ / 02:00:00:000:0 / top(05) / market(01)\n",
      "0 / L / * / 02:00:00:000:0 / top(05) / market(01)\n",
      "0 / L / X / 02:00:00:000:0 / top(05) / supply_c0 / [1000, 1000] / market(01)\n",
      "0 / L / * / 02:00:00:000:0 / top(05) / market(01)\n",
      "0 / L / @ / 02:00:00:000:0 / top(05) / market(01)\n",
      "0 / L / * / 02:00:00:000:0 / top(05) / market(01)\n",
      "0 / L / X / 03:00:00:000:0 / top(05) / demand_p0 /   1000.00000 / market(01)\n",
      "0 / L / X / 03:00:00:000:0 / top(05) / demand_p1 /   1000.00000 / market(01)\n",
      "0 / L / * / 03:00:00:000:0 / top(05) / market(01)\n",
      "0 / L / @ / 03:00:00:000:0 / top(05) / market(01)\n",
      "0 / L / * / 03:00:00:000:0 / top(05) / market(01)\n",
      "0 / L / X / 03:00:00:000:0 / top(05) / supply_c0 / [1000, 1000] / market(01)\n",
      "0 / L / * / 03:00:00:000:0 / top(05) / market(01)\n",
      "0 / L / @ / 03:00:00:000:0 / top(05) / market(01)\n",
      "0 / L / * / 03:00:00:000:0 / top(05) / market(01)\n",
      "0 / L / X / 03:00:00:000:0 / top(05) / supply_c0 / [1000, 1000] / market(01)\n",
      "0 / L / * / 03:00:00:000:0 / top(05) / market(01)\n",
      "0 / L / @ / 03:00:00:000:0 / top(05) / market(01)\n",
      "0 / L / * / 03:00:00:000:0 / top(05) / market(01)\n",
      "0 / L / X / 04:00:00:000:0 / top(05) / demand_p0 /   1000.00000 / market(01)\n",
      "0 / L / X / 04:00:00:000:0 / top(05) / demand_p1 /   1000.00000 / market(01)\n",
      "0 / L / * / 04:00:00:000:0 / top(05) / market(01)\n",
      "0 / L / @ / 04:00:00:000:0 / top(05) / market(01)\n",
      "0 / L / * / 04:00:00:000:0 / top(05) / market(01)\n",
      "0 / L / X / 04:00:00:000:0 / top(05) / supply_c0 / [1000, 1000] / market(01)\n",
      "0 / L / * / 04:00:00:000:0 / top(05) / market(01)\n",
      "0 / L / @ / 04:00:00:000:0 / top(05) / market(01)\n",
      "0 / L / * / 04:00:00:000:0 / top(05) / market(01)\n",
      "0 / L / X / 04:00:00:000:0 / top(05) / supply_c0 / [1000, 1000] / market(01)\n",
      "0 / L / * / 04:00:00:000:0 / top(05) / market(01)\n",
      "0 / L / @ / 04:00:00:000:0 / top(05) / market(01)\n",
      "0 / L / * / 04:00:00:000:0 / top(05) / market(01)\n",
      "0 / L / X / 05:00:00:000:0 / top(05) / demand_p0 /   1000.00000 / market(01)\n",
      "0 / L / X / 05:00:00:000:0 / top(05) / demand_p1 /   1000.00000 / market(01)\n",
      "0 / L / * / 05:00:00:000:0 / top(05) / market(01)\n",
      "0 / L / @ / 05:00:00:000:0 / top(05) / market(01)\n",
      "0 / L / * / 05:00:00:000:0 / top(05) / market(01)\n",
      "0 / L / X / 05:00:00:000:0 / top(05) / supply_c0 / [1000, 1000] / market(01)\n",
      "0 / L / * / 05:00:00:000:0 / top(05) / market(01)\n",
      "0 / L / @ / 05:00:00:000:0 / top(05) / market(01)\n",
      "0 / L / * / 05:00:00:000:0 / top(05) / market(01)\n",
      "0 / L / X / 05:00:00:000:0 / top(05) / supply_c0 / [1000, 1000] / market(01)\n",
      "0 / L / * / 05:00:00:000:0 / top(05) / market(01)\n",
      "0 / L / @ / 05:00:00:000:0 / top(05) / market(01)\n",
      "0 / L / * / 05:00:00:000:0 / top(05) / market(01)\n"
     ]
    }
   ],
   "metadata": {}
  },
  {
   "cell_type": "markdown",
   "source": [
    "## Atómico Pais"
   ],
   "metadata": {}
  },
  {
   "cell_type": "code",
   "execution_count": null,
   "source": [
    "%%bash\n",
    "\n",
    "cat model/test_country.ma"
   ],
   "outputs": [],
   "metadata": {}
  },
  {
   "cell_type": "code",
   "execution_count": null,
   "source": [
    "%%bash\n",
    "\n",
    "cat model/test_country.ev"
   ],
   "outputs": [],
   "metadata": {}
  },
  {
   "cell_type": "code",
   "execution_count": 1,
   "source": [
    "%%bash\n",
    "\n",
    "src/bin/cd++ -m model/test_country.ma \\\n",
    "             -t 05:00:00:000 \\\n",
    "             -l test_country.log \\\n",
    "             -o test_country.out \\\n",
    "             -e model/test_country.ev"
   ],
   "outputs": [
    {
     "output_type": "stream",
     "name": "stdout",
     "text": [
      "PCD++: A Tool to Implement n-Dimensional Cell-DEVS models\n",
      "Version 3.0 - March 2003\n",
      "Troccoli A., Rodriguez D., Wainer G., Barylko A., Beyoglonian J., Lopez A.\n",
      "-----------------------------------------------------------------------------\n",
      "PCD++ Extended States: An extended and improved version of CD++ for Cell-DEVS\n",
      "Version 4.1.2 - December 2018\n",
      "Santi L., Castro, R., Pimás, J.\n",
      "-----------------------------------------------------------------------------\n",
      "Discrete Event Simulation Lab\n",
      "Departamento de Computación\n",
      "Facultad de Ciencias Exactas y Naturales\n",
      "Universidad de Buenos Aires, Argentina\n",
      "-----------------------------------------------------------------------------\n",
      "Compiled for standalone simulation\n",
      "\n",
      "\n",
      "Loading models from model/test_country.ma\n",
      "Loading events from model/test_country.ev\n",
      "Running parallel simulation. Reading models partition from \n",
      "Model partition details output to: /dev/null*\n",
      "Message log: test_country.log\n",
      "Output to: test_country.out\n",
      "Tolerance set to: 1e-08\n",
      "Configuration to show real numbers: Width = 12 - Precision = 5\n",
      "Quantum: Not used\n",
      "Evaluate Debug Mode = OFF\n",
      "Flat Cell Debug Mode = OFF\n",
      "Debug Cell Rules Mode = OFF\n",
      "Temporary File created by Preprocessor = /tmp/fileJB9lo0\n",
      "Printing parser information = OFF\n",
      "\n",
      "Stop at time: 05:00:00:000:0\n",
      "LP 0: initializing simulation objects\n",
      "00:00:00:000:0 / in / [2000, 3000, 0, 0, 8500]\n",
      "01:00:00:000:0 / in / [2100, 3200, 100, 200, 8600]\n",
      "02:00:00:000:0 / in / [2200, 3100, 200, 300, 8400]\n",
      "03:00:00:000:0 / in / [2500, 3050, 700, 360, 8000]\n",
      "04:00:00:000:0 / in / [2800, 3000, 600, 410, 7500]\n",
      "LP 0: starting simulation (NoTime).\n",
      "Simulation complete!\n",
      "Simulation ended!\n",
      "LP 0 has finished simulation \n"
     ]
    }
   ],
   "metadata": {}
  },
  {
   "cell_type": "code",
   "execution_count": 2,
   "source": [
    "%%bash\n",
    "\n",
    "cat test_country.out"
   ],
   "outputs": [
    {
     "output_type": "stream",
     "name": "stdout",
     "text": [
      "00:00:00:000:0 out [1800, 3100, 0, 0, 8000]\n",
      "00:00:00:000:0 out [2000, 3000, 0, 0, 8500]\n",
      "01:00:00:000:0 out [2100, 3200, 100, 200, 8600]\n",
      "02:00:00:000:0 out [2200, 3100, 200, 300, 8400]\n",
      "03:00:00:000:0 out [2500, 3050, 700, 360, 8000]\n",
      "04:00:00:000:0 out [2800, 3000, 600, 410, 7500]\n"
     ]
    }
   ],
   "metadata": {}
  },
  {
   "cell_type": "code",
   "execution_count": 5,
   "source": [
    "%%bash\n",
    "\n",
    "src/bin/cd++ -m model/simulation.ma \\\n",
    "             -t 05:00:00:000 \\\n",
    "             -l simulation.log \\\n",
    "             -o simulation.out"
   ],
   "outputs": [
    {
     "output_type": "stream",
     "name": "stdout",
     "text": [
      "PCD++: A Tool to Implement n-Dimensional Cell-DEVS models\n",
      "Version 3.0 - March 2003\n",
      "Troccoli A., Rodriguez D., Wainer G., Barylko A., Beyoglonian J., Lopez A.\n",
      "-----------------------------------------------------------------------------\n",
      "PCD++ Extended States: An extended and improved version of CD++ for Cell-DEVS\n",
      "Version 4.1.2 - December 2018\n",
      "Santi L., Castro, R., Pimás, J.\n",
      "-----------------------------------------------------------------------------\n",
      "Discrete Event Simulation Lab\n",
      "Departamento de Computación\n",
      "Facultad de Ciencias Exactas y Naturales\n",
      "Universidad de Buenos Aires, Argentina\n",
      "-----------------------------------------------------------------------------\n",
      "Compiled for standalone simulation\n",
      "\n",
      "\n",
      "Loading models from model/simulation.ma\n",
      "Loading events from \n",
      "Running parallel simulation. Reading models partition from \n",
      "Model partition details output to: /dev/null*\n",
      "Message log: simulation.log\n",
      "Output to: simulation.out\n",
      "Tolerance set to: 1e-08\n",
      "Configuration to show real numbers: Width = 12 - Precision = 5\n",
      "Quantum: Not used\n",
      "Evaluate Debug Mode = OFF\n",
      "Flat Cell Debug Mode = OFF\n",
      "Debug Cell Rules Mode = OFF\n",
      "Temporary File created by Preprocessor = /tmp/file6urwxA\n",
      "Printing parser information = OFF\n",
      "\n",
      "Stop at time: 05:00:00:000:0\n",
      "LP 0: initializing simulation objects\n",
      "LP 0: starting simulation (NoTime).\n",
      "HERE \n",
      "FINISHED\n",
      "HERE \n",
      "FINISHED\n",
      "HERE \n",
      "FINISHED\n",
      "HERE \n",
      "FINISHED\n"
     ]
    },
    {
     "output_type": "stream",
     "name": "stderr",
     "text": [
      "*** stack smashing detected ***: terminated\n",
      "bash: line 5: 1526217 Aborted                 (core dumped) src/bin/cd++ -m model/simulation.ma -t 05:00:00:000 -l simulation.log -o simulation.out\n"
     ]
    },
    {
     "output_type": "error",
     "ename": "CalledProcessError",
     "evalue": "Command 'b'\\nsrc/bin/cd++ -m model/simulation.ma \\\\\\n             -t 05:00:00:000 \\\\\\n             -l simulation.log \\\\\\n             -o simulation.out\\n'' returned non-zero exit status 134.",
     "traceback": [
      "\u001b[0;31m---------------------------------------------------------------------------\u001b[0m",
      "\u001b[0;31mCalledProcessError\u001b[0m                        Traceback (most recent call last)",
      "\u001b[0;32m/tmp/ipykernel_1477239/1330291487.py\u001b[0m in \u001b[0;36m<module>\u001b[0;34m\u001b[0m\n\u001b[0;32m----> 1\u001b[0;31m \u001b[0mget_ipython\u001b[0m\u001b[0;34m(\u001b[0m\u001b[0;34m)\u001b[0m\u001b[0;34m.\u001b[0m\u001b[0mrun_cell_magic\u001b[0m\u001b[0;34m(\u001b[0m\u001b[0;34m'bash'\u001b[0m\u001b[0;34m,\u001b[0m \u001b[0;34m''\u001b[0m\u001b[0;34m,\u001b[0m \u001b[0;34m'\\nsrc/bin/cd++ -m model/simulation.ma \\\\\\n             -t 05:00:00:000 \\\\\\n             -l simulation.log \\\\\\n             -o simulation.out\\n'\u001b[0m\u001b[0;34m)\u001b[0m\u001b[0;34m\u001b[0m\u001b[0;34m\u001b[0m\u001b[0m\n\u001b[0m",
      "\u001b[0;32m~/envs/sed/lib/python3.8/site-packages/IPython/core/interactiveshell.py\u001b[0m in \u001b[0;36mrun_cell_magic\u001b[0;34m(self, magic_name, line, cell)\u001b[0m\n\u001b[1;32m   2404\u001b[0m             \u001b[0;32mwith\u001b[0m \u001b[0mself\u001b[0m\u001b[0;34m.\u001b[0m\u001b[0mbuiltin_trap\u001b[0m\u001b[0;34m:\u001b[0m\u001b[0;34m\u001b[0m\u001b[0;34m\u001b[0m\u001b[0m\n\u001b[1;32m   2405\u001b[0m                 \u001b[0margs\u001b[0m \u001b[0;34m=\u001b[0m \u001b[0;34m(\u001b[0m\u001b[0mmagic_arg_s\u001b[0m\u001b[0;34m,\u001b[0m \u001b[0mcell\u001b[0m\u001b[0;34m)\u001b[0m\u001b[0;34m\u001b[0m\u001b[0;34m\u001b[0m\u001b[0m\n\u001b[0;32m-> 2406\u001b[0;31m                 \u001b[0mresult\u001b[0m \u001b[0;34m=\u001b[0m \u001b[0mfn\u001b[0m\u001b[0;34m(\u001b[0m\u001b[0;34m*\u001b[0m\u001b[0margs\u001b[0m\u001b[0;34m,\u001b[0m \u001b[0;34m**\u001b[0m\u001b[0mkwargs\u001b[0m\u001b[0;34m)\u001b[0m\u001b[0;34m\u001b[0m\u001b[0;34m\u001b[0m\u001b[0m\n\u001b[0m\u001b[1;32m   2407\u001b[0m             \u001b[0;32mreturn\u001b[0m \u001b[0mresult\u001b[0m\u001b[0;34m\u001b[0m\u001b[0;34m\u001b[0m\u001b[0m\n\u001b[1;32m   2408\u001b[0m \u001b[0;34m\u001b[0m\u001b[0m\n",
      "\u001b[0;32m~/envs/sed/lib/python3.8/site-packages/IPython/core/magics/script.py\u001b[0m in \u001b[0;36mnamed_script_magic\u001b[0;34m(line, cell)\u001b[0m\n\u001b[1;32m    140\u001b[0m             \u001b[0;32melse\u001b[0m\u001b[0;34m:\u001b[0m\u001b[0;34m\u001b[0m\u001b[0;34m\u001b[0m\u001b[0m\n\u001b[1;32m    141\u001b[0m                 \u001b[0mline\u001b[0m \u001b[0;34m=\u001b[0m \u001b[0mscript\u001b[0m\u001b[0;34m\u001b[0m\u001b[0;34m\u001b[0m\u001b[0m\n\u001b[0;32m--> 142\u001b[0;31m             \u001b[0;32mreturn\u001b[0m \u001b[0mself\u001b[0m\u001b[0;34m.\u001b[0m\u001b[0mshebang\u001b[0m\u001b[0;34m(\u001b[0m\u001b[0mline\u001b[0m\u001b[0;34m,\u001b[0m \u001b[0mcell\u001b[0m\u001b[0;34m)\u001b[0m\u001b[0;34m\u001b[0m\u001b[0;34m\u001b[0m\u001b[0m\n\u001b[0m\u001b[1;32m    143\u001b[0m \u001b[0;34m\u001b[0m\u001b[0m\n\u001b[1;32m    144\u001b[0m         \u001b[0;31m# write a basic docstring:\u001b[0m\u001b[0;34m\u001b[0m\u001b[0;34m\u001b[0m\u001b[0;34m\u001b[0m\u001b[0m\n",
      "\u001b[0;32m~/envs/sed/lib/python3.8/site-packages/decorator.py\u001b[0m in \u001b[0;36mfun\u001b[0;34m(*args, **kw)\u001b[0m\n\u001b[1;32m    230\u001b[0m             \u001b[0;32mif\u001b[0m \u001b[0;32mnot\u001b[0m \u001b[0mkwsyntax\u001b[0m\u001b[0;34m:\u001b[0m\u001b[0;34m\u001b[0m\u001b[0;34m\u001b[0m\u001b[0m\n\u001b[1;32m    231\u001b[0m                 \u001b[0margs\u001b[0m\u001b[0;34m,\u001b[0m \u001b[0mkw\u001b[0m \u001b[0;34m=\u001b[0m \u001b[0mfix\u001b[0m\u001b[0;34m(\u001b[0m\u001b[0margs\u001b[0m\u001b[0;34m,\u001b[0m \u001b[0mkw\u001b[0m\u001b[0;34m,\u001b[0m \u001b[0msig\u001b[0m\u001b[0;34m)\u001b[0m\u001b[0;34m\u001b[0m\u001b[0;34m\u001b[0m\u001b[0m\n\u001b[0;32m--> 232\u001b[0;31m             \u001b[0;32mreturn\u001b[0m \u001b[0mcaller\u001b[0m\u001b[0;34m(\u001b[0m\u001b[0mfunc\u001b[0m\u001b[0;34m,\u001b[0m \u001b[0;34m*\u001b[0m\u001b[0;34m(\u001b[0m\u001b[0mextras\u001b[0m \u001b[0;34m+\u001b[0m \u001b[0margs\u001b[0m\u001b[0;34m)\u001b[0m\u001b[0;34m,\u001b[0m \u001b[0;34m**\u001b[0m\u001b[0mkw\u001b[0m\u001b[0;34m)\u001b[0m\u001b[0;34m\u001b[0m\u001b[0;34m\u001b[0m\u001b[0m\n\u001b[0m\u001b[1;32m    233\u001b[0m     \u001b[0mfun\u001b[0m\u001b[0;34m.\u001b[0m\u001b[0m__name__\u001b[0m \u001b[0;34m=\u001b[0m \u001b[0mfunc\u001b[0m\u001b[0;34m.\u001b[0m\u001b[0m__name__\u001b[0m\u001b[0;34m\u001b[0m\u001b[0;34m\u001b[0m\u001b[0m\n\u001b[1;32m    234\u001b[0m     \u001b[0mfun\u001b[0m\u001b[0;34m.\u001b[0m\u001b[0m__doc__\u001b[0m \u001b[0;34m=\u001b[0m \u001b[0mfunc\u001b[0m\u001b[0;34m.\u001b[0m\u001b[0m__doc__\u001b[0m\u001b[0;34m\u001b[0m\u001b[0;34m\u001b[0m\u001b[0m\n",
      "\u001b[0;32m~/envs/sed/lib/python3.8/site-packages/IPython/core/magic.py\u001b[0m in \u001b[0;36m<lambda>\u001b[0;34m(f, *a, **k)\u001b[0m\n\u001b[1;32m    185\u001b[0m     \u001b[0;31m# but it's overkill for just that one bit of state.\u001b[0m\u001b[0;34m\u001b[0m\u001b[0;34m\u001b[0m\u001b[0;34m\u001b[0m\u001b[0m\n\u001b[1;32m    186\u001b[0m     \u001b[0;32mdef\u001b[0m \u001b[0mmagic_deco\u001b[0m\u001b[0;34m(\u001b[0m\u001b[0marg\u001b[0m\u001b[0;34m)\u001b[0m\u001b[0;34m:\u001b[0m\u001b[0;34m\u001b[0m\u001b[0;34m\u001b[0m\u001b[0m\n\u001b[0;32m--> 187\u001b[0;31m         \u001b[0mcall\u001b[0m \u001b[0;34m=\u001b[0m \u001b[0;32mlambda\u001b[0m \u001b[0mf\u001b[0m\u001b[0;34m,\u001b[0m \u001b[0;34m*\u001b[0m\u001b[0ma\u001b[0m\u001b[0;34m,\u001b[0m \u001b[0;34m**\u001b[0m\u001b[0mk\u001b[0m\u001b[0;34m:\u001b[0m \u001b[0mf\u001b[0m\u001b[0;34m(\u001b[0m\u001b[0;34m*\u001b[0m\u001b[0ma\u001b[0m\u001b[0;34m,\u001b[0m \u001b[0;34m**\u001b[0m\u001b[0mk\u001b[0m\u001b[0;34m)\u001b[0m\u001b[0;34m\u001b[0m\u001b[0;34m\u001b[0m\u001b[0m\n\u001b[0m\u001b[1;32m    188\u001b[0m \u001b[0;34m\u001b[0m\u001b[0m\n\u001b[1;32m    189\u001b[0m         \u001b[0;32mif\u001b[0m \u001b[0mcallable\u001b[0m\u001b[0;34m(\u001b[0m\u001b[0marg\u001b[0m\u001b[0;34m)\u001b[0m\u001b[0;34m:\u001b[0m\u001b[0;34m\u001b[0m\u001b[0;34m\u001b[0m\u001b[0m\n",
      "\u001b[0;32m~/envs/sed/lib/python3.8/site-packages/IPython/core/magics/script.py\u001b[0m in \u001b[0;36mshebang\u001b[0;34m(self, line, cell)\u001b[0m\n\u001b[1;32m    243\u001b[0m             \u001b[0msys\u001b[0m\u001b[0;34m.\u001b[0m\u001b[0mstderr\u001b[0m\u001b[0;34m.\u001b[0m\u001b[0mflush\u001b[0m\u001b[0;34m(\u001b[0m\u001b[0;34m)\u001b[0m\u001b[0;34m\u001b[0m\u001b[0;34m\u001b[0m\u001b[0m\n\u001b[1;32m    244\u001b[0m         \u001b[0;32mif\u001b[0m \u001b[0margs\u001b[0m\u001b[0;34m.\u001b[0m\u001b[0mraise_error\u001b[0m \u001b[0;32mand\u001b[0m \u001b[0mp\u001b[0m\u001b[0;34m.\u001b[0m\u001b[0mreturncode\u001b[0m\u001b[0;34m!=\u001b[0m\u001b[0;36m0\u001b[0m\u001b[0;34m:\u001b[0m\u001b[0;34m\u001b[0m\u001b[0;34m\u001b[0m\u001b[0m\n\u001b[0;32m--> 245\u001b[0;31m             \u001b[0;32mraise\u001b[0m \u001b[0mCalledProcessError\u001b[0m\u001b[0;34m(\u001b[0m\u001b[0mp\u001b[0m\u001b[0;34m.\u001b[0m\u001b[0mreturncode\u001b[0m\u001b[0;34m,\u001b[0m \u001b[0mcell\u001b[0m\u001b[0;34m,\u001b[0m \u001b[0moutput\u001b[0m\u001b[0;34m=\u001b[0m\u001b[0mout\u001b[0m\u001b[0;34m,\u001b[0m \u001b[0mstderr\u001b[0m\u001b[0;34m=\u001b[0m\u001b[0merr\u001b[0m\u001b[0;34m)\u001b[0m\u001b[0;34m\u001b[0m\u001b[0;34m\u001b[0m\u001b[0m\n\u001b[0m\u001b[1;32m    246\u001b[0m \u001b[0;34m\u001b[0m\u001b[0m\n\u001b[1;32m    247\u001b[0m     \u001b[0;32mdef\u001b[0m \u001b[0m_run_script\u001b[0m\u001b[0;34m(\u001b[0m\u001b[0mself\u001b[0m\u001b[0;34m,\u001b[0m \u001b[0mp\u001b[0m\u001b[0;34m,\u001b[0m \u001b[0mcell\u001b[0m\u001b[0;34m,\u001b[0m \u001b[0mto_close\u001b[0m\u001b[0;34m)\u001b[0m\u001b[0;34m:\u001b[0m\u001b[0;34m\u001b[0m\u001b[0;34m\u001b[0m\u001b[0m\n",
      "\u001b[0;31mCalledProcessError\u001b[0m: Command 'b'\\nsrc/bin/cd++ -m model/simulation.ma \\\\\\n             -t 05:00:00:000 \\\\\\n             -l simulation.log \\\\\\n             -o simulation.out\\n'' returned non-zero exit status 134."
     ]
    }
   ],
   "metadata": {}
  }
 ],
 "metadata": {
  "kernelspec": {
   "name": "python3",
   "display_name": "Python 3.8.5 64-bit ('sed': virtualenv)"
  },
  "language_info": {
   "codemirror_mode": {
    "name": "ipython",
    "version": 3
   },
   "file_extension": ".py",
   "mimetype": "text/x-python",
   "name": "python",
   "nbconvert_exporter": "python",
   "pygments_lexer": "ipython3",
   "version": "3.8.5"
  },
  "interpreter": {
   "hash": "2ce2edf491a47315468e3516cd7380c8ddf250046eaa25aa49db74dbcc80eb2f"
  }
 },
 "nbformat": 4,
 "nbformat_minor": 5
}