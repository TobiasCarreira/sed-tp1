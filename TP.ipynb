{
 "cells": [
  {
   "cell_type": "markdown",
   "id": "146b53eb",
   "metadata": {},
   "source": [
    "# Simulación de Eventos Discretos - TP1\n",
    "\n",
    "TODO: explicar modelo conceptual"
   ]
  },
  {
   "cell_type": "markdown",
   "id": "7782c0d9",
   "metadata": {},
   "source": [
    "Hace falta compilar el simulador con los atómicos nuevos:"
   ]
  },
  {
   "cell_type": "code",
   "execution_count": null,
   "id": "890f395f",
   "metadata": {
    "scrolled": true,
    "tags": []
   },
   "outputs": [],
   "source": [
    "%%bash \n",
    "\n",
    "cd src/\n",
    "\n",
    "make"
   ]
  },
  {
   "cell_type": "markdown",
   "id": "1be472ee",
   "metadata": {},
   "source": [
    "## Atómico Producto"
   ]
  },
  {
   "cell_type": "code",
   "execution_count": null,
   "id": "a4ef7890",
   "metadata": {},
   "outputs": [],
   "source": [
    "%%bash\n",
    "\n",
    "cat model/test_product.ma"
   ]
  },
  {
   "cell_type": "code",
   "execution_count": null,
   "id": "43a1eadd",
   "metadata": {},
   "outputs": [],
   "source": [
    "%%bash\n",
    "\n",
    "cat model/test_product.ev"
   ]
  },
  {
   "cell_type": "code",
   "execution_count": null,
   "id": "42f088b2",
   "metadata": {},
   "outputs": [],
   "source": [
    "%%bash\n",
    "\n",
    "src/bin/cd++ -m model/test_product.ma \\\n",
    "             -t 10:00:00:000 \\\n",
    "             -l test_product.log \\\n",
    "             -o test_product.out \\\n",
    "             -e model/test_product.ev"
   ]
  },
  {
   "cell_type": "code",
   "execution_count": null,
   "id": "7d39b1a5",
   "metadata": {},
   "outputs": [],
   "source": [
    "%%bash\n",
    "\n",
    "cat model.out"
   ]
  },
  {
   "cell_type": "markdown",
   "id": "c67f8bba",
   "metadata": {},
   "source": [
    "## Atomico Mercado"
   ]
  },
  {
   "cell_type": "code",
   "execution_count": null,
   "id": "d3b4ad67",
   "metadata": {},
   "outputs": [],
   "source": [
    "%%bash\n",
    "\n",
    "cat model/test_market.ma"
   ]
  },
  {
   "cell_type": "code",
   "execution_count": null,
   "id": "1523bd13",
   "metadata": {},
   "outputs": [],
   "source": [
    "%%bash\n",
    "\n",
    "cat model/test_market.ev"
   ]
  },
  {
   "cell_type": "code",
   "execution_count": null,
   "id": "627c7be3",
   "metadata": {},
   "outputs": [],
   "source": [
    "%%bash\n",
    "\n",
    "src/bin/cd++ -m model/test_market.ma \\\n",
    "             -t 05:00:00:000 \\\n",
    "             -l test_market.log \\\n",
    "             -o test_market.out \\"
   ]
  },
  {
   "cell_type": "code",
   "execution_count": null,
   "id": "55ff9495",
   "metadata": {},
   "outputs": [],
   "source": [
    "%%bash\n",
    "\n",
    "cat test_market.out"
   ]
  },
  {
   "cell_type": "code",
   "execution_count": null,
   "id": "7abd2be5",
   "metadata": {},
   "outputs": [],
   "source": [
    "%%bash\n",
    "\n",
    "cat test_market.log01"
   ]
  },
  {
   "cell_type": "markdown",
   "id": "7ea1da57",
   "metadata": {},
   "source": [
    "## Atómico Pais"
   ]
  },
  {
   "cell_type": "code",
   "execution_count": null,
   "id": "4e0c1869",
   "metadata": {},
   "outputs": [],
   "source": [
    "%%bash\n",
    "\n",
    "cat model/test_country.ma"
   ]
  },
  {
   "cell_type": "code",
   "execution_count": null,
   "id": "6c389987",
   "metadata": {},
   "outputs": [],
   "source": [
    "%%bash\n",
    "\n",
    "cat model/test_country.ev"
   ]
  },
  {
   "cell_type": "code",
   "execution_count": null,
   "id": "a2089275",
   "metadata": {},
   "outputs": [],
   "source": [
    "%%bash\n",
    "\n",
    "src/bin/cd++ -m model/test_country.ma \\\n",
    "             -t 05:00:00:000 \\\n",
    "             -l test_country.log \\\n",
    "             -o test_country.out \\\n",
    "             -e model/test_country.ev"
   ]
  },
  {
   "cell_type": "code",
   "execution_count": null,
   "id": "76b58aad",
   "metadata": {},
   "outputs": [],
   "source": [
    "%%bash\n",
    "\n",
    "cat test_country.out"
   ]
  },
  {
   "cell_type": "code",
   "execution_count": null,
   "id": "d8358408",
   "metadata": {},
   "outputs": [],
   "source": [
    "%%bash\n",
    "\n",
    "src/bin/cd++ -m model/simulation.ma \\\n",
    "             -t 05:00:00:000 \\\n",
    "             -l simulation.log \\\n",
    "             -o simulation.out"
   ]
  },
  {
   "cell_type": "markdown",
   "id": "10b9cdf9-b6c5-482f-804d-2ef0f6a23d9e",
   "metadata": {},
   "source": [
    "## Modelo Completo"
   ]
  },
  {
   "cell_type": "code",
   "execution_count": null,
   "id": "0041ed5e-dd4e-4610-b1a8-b94b06ca02df",
   "metadata": {},
   "outputs": [],
   "source": [
    "%%bash\n",
    "\n",
    "cd model\n",
    "\n",
    "python3 generate_ma.py"
   ]
  },
  {
   "cell_type": "code",
   "execution_count": null,
   "id": "04af49ea-399a-4393-a1b7-b5fd828ed205",
   "metadata": {
    "scrolled": true,
    "tags": []
   },
   "outputs": [],
   "source": [
    "%%bash\n",
    "\n",
    "mkdir -p logs\n",
    "src/bin/cd++ -m model/simulation.ma \\\n",
    "             -t 10:00:00:000 \\\n",
    "             -l logs/simulation.log \\\n",
    "             -o simulation.out"
   ]
  },
  {
   "cell_type": "code",
   "execution_count": null,
   "id": "27c510ee-e209-4774-9422-80d312187014",
   "metadata": {},
   "outputs": [],
   "source": [
    "%%bash\n",
    "head simulation.out"
   ]
  },
  {
   "cell_type": "code",
   "execution_count": null,
   "id": "6fc8ed6f-30e1-492f-9a5c-06333ec9ae64",
   "metadata": {},
   "outputs": [],
   "source": [
    "import numpy as np\n",
    "import pandas as pd\n",
    "import matplotlib.pyplot as plt\n",
    "\n",
    "# definimos los path a los archivos de interés\n",
    "OUT_FILENAME = \"simulation.out\"\n",
    "\n",
    "# definimos los nombres de las columnas en los dataframes de pandas\n",
    "TIME_COL = 'time'\n",
    "PORT_COL = 'port'\n",
    "VALUE_COL = 'value'\n",
    "# MESSAGE_TYPE_COL = 'message_type'\n",
    "# MODEL_ORIGIN_COL = 'model_origin'\n",
    "# MODEL_DEST_COL = 'model_dest'\n",
    "\n",
    "# parsea cada fila del dataframe\n",
    "def parse_value(value: str):\n",
    "    if '?' in value: return None\n",
    "    is_list = value.strip().startswith(\"[\") and value.strip().endswith(\"]\")\n",
    "    if is_list:\n",
    "        return tuple(float(num) for num in value.replace('[', '').replace(']', '').split(', '))\n",
    "    return float(value)\n",
    "\n",
    "# conversion VTime a float\n",
    "def time_to_years(time):\n",
    "    h, m, s, ms, r = time.split(':')\n",
    "    return h\n",
    "\n",
    "df_converters = {\n",
    "    VALUE_COL: parse_value,\n",
    "    TIME_COL: time_to_years\n",
    "}\n",
    "\n",
    "salida = pd.read_csv(OUT_FILENAME,\n",
    "                     delimiter=r'(?<!,)\\s+',\n",
    "                     engine='python',  # C engine doesnt work for regex\n",
    "                     converters=df_converters,\n",
    "                     names=[TIME_COL, PORT_COL, VALUE_COL]\n",
    "                    )\n",
    "\n",
    "# veamos cómo luce el dataframe con los datos de salida\n",
    "salida.head() # filtro por índice"
   ]
  },
  {
   "cell_type": "code",
   "execution_count": null,
   "id": "0fba1932-b02e-426e-bc0c-180bd8759733",
   "metadata": {},
   "outputs": [],
   "source": [
    "def plot_product_demand(product):\n",
    "    df = salida[[f'demand_p{product}' == port for port in salida[PORT_COL]]]\n",
    "    xs = df[TIME_COL]\n",
    "    ys = df[VALUE_COL]\n",
    "\n",
    "    plt.figure(figsize=(10,5))\n",
    "    plt.plot(xs, ys, marker='o')\n",
    "    plt.grid(True)\n",
    "    plt.xlabel('Tiempo [años]')\n",
    "    plt.ylabel('Demanda [$]')\n",
    "    plt.title(f'Demanda del producto {product} en el tiempo')"
   ]
  },
  {
   "cell_type": "code",
   "execution_count": null,
   "id": "54a4356a-c0b5-4160-b0ba-26fc8f1d3cf8",
   "metadata": {},
   "outputs": [],
   "source": [
    "plot_product_demand(0)"
   ]
  },
  {
   "cell_type": "code",
   "execution_count": null,
   "id": "24e25a8d-712b-4342-9382-f5c6a711e227",
   "metadata": {},
   "outputs": [],
   "source": []
  }
 ],
 "metadata": {
  "interpreter": {
   "hash": "2ce2edf491a47315468e3516cd7380c8ddf250046eaa25aa49db74dbcc80eb2f"
  },
  "kernelspec": {
   "display_name": "Python 3 (ipykernel)",
   "language": "python",
   "name": "python3"
  },
  "language_info": {
   "codemirror_mode": {
    "name": "ipython",
    "version": 3
   },
   "file_extension": ".py",
   "mimetype": "text/x-python",
   "name": "python",
   "nbconvert_exporter": "python",
   "pygments_lexer": "ipython3",
   "version": "3.9.7"
  }
 },
 "nbformat": 4,
 "nbformat_minor": 5
}
