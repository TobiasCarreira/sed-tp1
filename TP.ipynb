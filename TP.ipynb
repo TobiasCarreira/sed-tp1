{
 "cells": [
  {
   "cell_type": "markdown",
   "id": "146b53eb",
   "metadata": {},
   "source": [
    "# Simulación de Eventos Discretos - TP1"
   ]
  },
  {
   "cell_type": "markdown",
   "id": "7782c0d9",
   "metadata": {},
   "source": [
    "En este trabajo práctico buscamos modelar el sistema que define el [Product Space](https://atlas.cid.harvard.edu/), tal que se puedan utilizar simulaciones sobre éste que nos permita analizar características de los Product Spaces subyacentes.\n",
    "\n",
    "Nos interesa particularmente la relación entre el Product Space (y las variables que surgen de sus definiciones) y los indicadores socioeconómicos de los distintos países que forman parte de esta red. Entendemos que **los países quieren progresar y pueden usar (alguna) información del Product Space para tomar decisiones** respecto de políticas públicas, inversiones, oportunidades a corto y largo plazo con el objeto de mejorar en indicadores tales como PBI, PBI per cápita, GINI, formalidad laboral, etc. Existen (y fueron demostradas) correlaciones significativas entre estos indicadores y variables del Product Space como el Economic Complexity Index (ECI) o el Relative Competitive Advantage (RCA), por lo que se puede generar un paralelismo razonable entre “avanzar” en el Product Space y mejorar la economía y sociedad de un país.\n",
    "\n",
    "Asignaremos **estrategias de crecimiento** a cada país y ajustaremos los parámetros de las mismas en función de datos reales de la economía de cada uno de ellos. Luego **a través de un Mercado internacional determinados Productos serán demandados a los países**, dado que los recursos productivos son finitos, determinados y dispares el Mercado deberá distribuir las demandas respetando esta disparidad, que también se puede observar en el Product Space."
   ]
  },
  {
   "cell_type": "markdown",
   "id": "aac33f3f-2c5d-4b43-a707-857a411ad20f",
   "metadata": {},
   "source": [
    "En concreto, el problema que estamos tratando de resolver se basa en una situación real -el intercambio de bienes entre países y sus trayectorias socioeconómicas- pero que trataremos de forma idealizada. A partir de esta modelización, trataremos de responder las siguientes preguntas: ¿cómo se modifica la descripción en el Product Space de los países según sus distintas estrategias?¿Después de cierto tiempo, se alcanzan valores estables y comunes para indicadores socioeconómicos como el índice de GINI?¿Cómo evoluciona la desigualdad cuando la demanda de productos fluctúa altamente?¿Cómo impacta en la desigualdad y en los productos exportados el hecho de que la priorización de nuevos productos se base únicamente en el RCA (Relative Competitive Advantage)?¿Cómo se comparan las estrategias evaluadas con la selección aleatoria de nuevos productos? (Estrategia random de crecimiento)\n",
    "\n",
    "Por restricciones temporales y de conocimiento no llegamos a incluir en el modelo y posterior analisis a todas estas preguntas. En particular, no logramos incluir indicadores de bienestar socioeconómico (por ejemplo, GINI).\n",
    "\n",
    "Conseguimos implementar dos estrategias de crecimiento distintas: una más conservadora, que decide seguis exportando los productos conocidos por el pais, y una más arriesgada que busca diversificar. Esta última va a producir productos que le son más similares a su cartera de productos actual."
   ]
  },
  {
   "cell_type": "markdown",
   "id": "af6ff837-558f-4720-b34f-e894b5b7cf79",
   "metadata": {},
   "source": [
    "Tenemos tres tipos de componentes: el mercado, los productos y los paises. Cada año, se generarán pedidos de productos para los paises y estos decidirán si cumplen con estas demandas. En la simulación, un año equivale a una hora de tiempo virtual.\n",
    "\n",
    "La dinámica de los productos es la de crecimiento lineal ajustado por una regresión a [datos reales](https://atlas.cid.harvard.edu/data-downloads). Estos determinan la demanda que se realizará de cada producto para ese año.\n",
    "\n",
    "El mercado recibe la demanda de cada producto y decide como dividirla entre los distintos paises. Para cada producto, el 80% de la demanda es dividida entre los paises que ya lo producían el año anterior respetando la proporción de cúanto producían (sostén de la producción), un 10% se divide entre cinco paises que no lo exportaban (de forma aleatoria), y el restante 10% se distribuye entre los países que producían los productos pero asignado de forma equitativa (aumento de la producción).\n",
    "\n",
    "El mercado le ofrece demanda a los países de forma secuencial: si el primer país no cumple con una demanda para un producto, esta se distribuirá (equitativamente) entre todos los paises a los cuales se decidió demandarle para este año.\n",
    "\n",
    "Cada país recibirá una tupla con las demandas que le corresponden de cada producto. Cada país cuenta con una medida de su PBI, que inicia con datos reales y crece en la misma proporción que sus exportaciones. Al recibir demandas, podrá utilizar alguna estrategia para asignar su presupuesto de reinversión (el cual determinamos como 1% del PBI) para aumentar su producción en algún producto o producir nuevos.\n",
    "\n",
    "Diremos que el costo de producción por dolar no previamente exportado (incremento) de producto es: $costo_p = \\frac{1}{2} \\cdot 10^{(1 - proximidad_{p,c})}$ donde $p$ es el producto, $c$ el pais y $proximidad$ es la distancia entre $p$ y los productos producidos por el país $c$ el el Espacio de Productos, o 1 si $p$ ya es exportado por $c$.\n",
    "\n",
    "Los países tienen implementada una estrategia conservadora, la cual usaremos en los próximos análisis. Esta estrategia divide el presupuesto entre los productos que ya fueron producidos por el pais durante el año anterior y cuya demanda aumentó, de forma equitativa con respecto al extra demandado."
   ]
  },
  {
   "cell_type": "markdown",
   "id": "7dea76ed-5f3a-4e5e-9b46-447bd28b9b91",
   "metadata": {},
   "source": [
    "El modelo fue pensado de forma extensible: pueden agregarse nuevas estrategias, indicadores socioeconómicos y otros comportamientos de forma simple y bien modularizada requiriendo cambios solamente en componentes particulares."
   ]
  },
  {
   "cell_type": "markdown",
   "id": "10b9cdf9-b6c5-482f-804d-2ef0f6a23d9e",
   "metadata": {},
   "source": [
    "## Simulación Modelo Estrategia Conservadora"
   ]
  },
  {
   "cell_type": "markdown",
   "id": "e2b60c88-9cb3-4a3b-bbf5-529183fa20e2",
   "metadata": {},
   "source": [
    "Como primer paso, corremos un script que genera el archivo .ma con los datos reales de paises y productos."
   ]
  },
  {
   "cell_type": "code",
   "execution_count": null,
   "id": "0041ed5e-dd4e-4610-b1a8-b94b06ca02df",
   "metadata": {},
   "outputs": [],
   "source": [
    "%%bash\n",
    "\n",
    "cd model\n",
    "\n",
    "python3 generate_ma.py"
   ]
  },
  {
   "cell_type": "markdown",
   "id": "20988f60-ac93-4870-bead-0987c48af5de",
   "metadata": {},
   "source": [
    "Corremos el modelo durante 20 años:"
   ]
  },
  {
   "cell_type": "code",
   "execution_count": null,
   "id": "04af49ea-399a-4393-a1b7-b5fd828ed205",
   "metadata": {
    "scrolled": true,
    "tags": []
   },
   "outputs": [],
   "source": [
    "%%bash\n",
    "\n",
    "mkdir -p logs\n",
    "src/bin/cd++ -m model/simulationConservative.ma \\\n",
    "             -t 20:00:00:000 \\\n",
    "             -l logs/simulation.log \\\n",
    "             -o simulation.out"
   ]
  },
  {
   "cell_type": "markdown",
   "id": "c83d83fd-3bf0-4696-b30b-1e2b093b0553",
   "metadata": {},
   "source": [
    "Cargamos los datos de salida de la simulación:"
   ]
  },
  {
   "cell_type": "code",
   "execution_count": null,
   "id": "6fc8ed6f-30e1-492f-9a5c-06333ec9ae64",
   "metadata": {},
   "outputs": [],
   "source": [
    "import numpy as np\n",
    "import pandas as pd\n",
    "import matplotlib.pyplot as plt\n",
    "\n",
    "# definimos los path a los archivos de interés\n",
    "OUT_FILENAME = \"simulation.out\"\n",
    "\n",
    "# definimos los nombres de las columnas en los dataframes de pandas\n",
    "TIME_COL = 'time'\n",
    "PORT_COL = 'port'\n",
    "VALUE_COL = 'value'\n",
    "# MESSAGE_TYPE_COL = 'message_type'\n",
    "# MODEL_ORIGIN_COL = 'model_origin'\n",
    "# MODEL_DEST_COL = 'model_dest'\n",
    "\n",
    "# parsea cada fila del dataframe\n",
    "def parse_value(value: str):\n",
    "    if '?' in value: return None\n",
    "    is_list = value.strip().startswith(\"[\") and value.strip().endswith(\"]\")\n",
    "    if is_list:\n",
    "        return tuple(float(num) for num in value.replace('[', '').replace(']', '').split(', '))\n",
    "    return float(value)\n",
    "\n",
    "# conversion VTime a float\n",
    "def time_to_years(time):\n",
    "    h, m, s, ms, r = time.split(':')\n",
    "    return h\n",
    "\n",
    "df_converters = {\n",
    "    VALUE_COL: parse_value,\n",
    "    TIME_COL: time_to_years\n",
    "}\n",
    "\n",
    "salida = pd.read_csv(OUT_FILENAME,\n",
    "                     delimiter=r'(?<!,)\\s+',\n",
    "                     engine='python',  # C engine doesnt work for regex\n",
    "                     converters=df_converters,\n",
    "                     names=[TIME_COL, PORT_COL, VALUE_COL]\n",
    "                    )\n",
    "\n",
    "# veamos cómo luce el dataframe con los datos de salida\n",
    "salida[[f'demand_c{0}' == port for port in salida[PORT_COL]]][VALUE_COL].head() # filtro por índice"
   ]
  },
  {
   "cell_type": "code",
   "execution_count": null,
   "id": "6c8d3dcf-49d6-408b-bc97-452c1ad06636",
   "metadata": {},
   "outputs": [],
   "source": [
    "countries_iso = {}\n",
    "with open(\"model/simulationConservative.ma\") as f:\n",
    "    i = None\n",
    "    iso = None\n",
    "    for l in f.readlines():\n",
    "        if \"[c\" in l:\n",
    "            i = int(l[2:-2])\n",
    "        elif \"iso3Code : \" in l:\n",
    "            iso = l[-4:-1]\n",
    "\n",
    "        if i and iso:\n",
    "            countries_iso[i] = iso\n",
    "            i = iso = None"
   ]
  },
  {
   "cell_type": "code",
   "execution_count": null,
   "id": "0957e128-f3c0-4a2e-bb9e-ebc3b5ae47da",
   "metadata": {},
   "outputs": [],
   "source": [
    "# TODO: cambiar para que use los nuevos nombres de puertos\n",
    "def demand_product(product):\n",
    "    return salida[salida[PORT_COL] == f'demand_p{product}']\n",
    "\n",
    "def supply_product(product):\n",
    "    return salida[salida[PORT_COL] == f'supply_p{product}']\n",
    "\n",
    "def demand_country(country):\n",
    "    return salida[salida[PORT_COL] == f'demand_c{country}']\n",
    "\n",
    "def supply_country(country):\n",
    "    return salida[salida[PORT_COL] == f'supply_c{country}']\n",
    "\n",
    "def gdp(country):\n",
    "    return salida[salida[PORT_COL] == f'gdp_c{country}']"
   ]
  },
  {
   "cell_type": "code",
   "execution_count": null,
   "id": "0fba1932-b02e-426e-bc0c-180bd8759733",
   "metadata": {},
   "outputs": [],
   "source": [
    "def plot_product_demand(product):\n",
    "    plt.figure(figsize=(10,5))\n",
    "    plt.plot(TIME_COL, VALUE_COL, data=demand_product(product), marker='o', label='Demanda')\n",
    "    plt.plot(TIME_COL, VALUE_COL, data=supply_product(product), marker='o', label='Oferta')\n",
    "    plt.grid(True)\n",
    "    plt.legend()\n",
    "    plt.xlabel('Tiempo [años]')\n",
    "    plt.ylabel('Demanda [$]')\n",
    "    plt.title(f'Demanda del producto {product} en el tiempo')"
   ]
  },
  {
   "cell_type": "code",
   "execution_count": null,
   "id": "54a4356a-c0b5-4160-b0ba-26fc8f1d3cf8",
   "metadata": {},
   "outputs": [],
   "source": [
    "plot_product_demand(0)"
   ]
  },
  {
   "cell_type": "code",
   "execution_count": null,
   "id": "24e25a8d-712b-4342-9382-f5c6a711e227",
   "metadata": {},
   "outputs": [],
   "source": [
    "def plot_country_export(country):\n",
    "    df = supply_country(country)\n",
    "    xs = df[TIME_COL]\n",
    "\n",
    "    plt.figure(figsize=(10,5))\n",
    "    product_exports = [[] for _ in df[VALUE_COL].iloc[0]]\n",
    "    for t in df[VALUE_COL]:\n",
    "        for i, val in enumerate(t):\n",
    "            product_exports[i].append(val)\n",
    "    for exports in product_exports:\n",
    "        plt.plot(xs, exports, marker='o')\n",
    "    plt.grid(True)\n",
    "    plt.xlabel('Tiempo [años]')\n",
    "    plt.ylabel('Exportaciones [$]')\n",
    "    plt.title(f'Exportación del pais {country}')"
   ]
  },
  {
   "cell_type": "code",
   "execution_count": null,
   "id": "475eca31-94dd-44d6-875f-0379a6c1d2e3",
   "metadata": {},
   "outputs": [],
   "source": [
    "plot_country_export(0)"
   ]
  },
  {
   "cell_type": "code",
   "execution_count": null,
   "id": "f23fb33d-40a9-4bd0-9c67-713366c0a0ec",
   "metadata": {},
   "outputs": [],
   "source": [
    "def plot_gdp(country):\n",
    "    df = salida[[f'gdp_c{country}' == port for port in salida[PORT_COL]]]\n",
    "    xs = df[TIME_COL]\n",
    "    ys = df[VALUE_COL]\n",
    "\n",
    "    plt.figure(figsize=(10,5))\n",
    "    plt.plot(xs, ys, marker='o')\n",
    "    plt.grid(True)\n",
    "    plt.xlabel('Tiempo [años]')\n",
    "    plt.ylabel('Demanda [$]')\n",
    "    plt.title(f'PBI del pais {country} en el tiempo')"
   ]
  },
  {
   "cell_type": "code",
   "execution_count": null,
   "id": "6f095871-243c-4a9b-89a0-2c12f90dcf6e",
   "metadata": {},
   "outputs": [],
   "source": [
    "plot_gdp(0)"
   ]
  },
  {
   "cell_type": "code",
   "execution_count": null,
   "id": "5ed5dfa4-7aac-4771-b297-3098e9c065f8",
   "metadata": {},
   "outputs": [],
   "source": []
  }
 ],
 "metadata": {
  "interpreter": {
   "hash": "2ce2edf491a47315468e3516cd7380c8ddf250046eaa25aa49db74dbcc80eb2f"
  },
  "kernelspec": {
   "display_name": "Python 3 (ipykernel)",
   "language": "python",
   "name": "python3"
  },
  "language_info": {
   "codemirror_mode": {
    "name": "ipython",
    "version": 3
   },
   "file_extension": ".py",
   "mimetype": "text/x-python",
   "name": "python",
   "nbconvert_exporter": "python",
   "pygments_lexer": "ipython3",
   "version": "3.9.7"
  }
 },
 "nbformat": 4,
 "nbformat_minor": 5
}
