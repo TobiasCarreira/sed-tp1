{
 "cells": [
  {
   "cell_type": "markdown",
   "id": "c66a70d8-6096-4d0d-a1f7-98f223b84004",
   "metadata": {},
   "source": [
    "# Simulación de Eventos Discretos - TP1\n",
    "\n",
    "TODO: explicar modelo conceptual"
   ]
  },
  {
   "cell_type": "markdown",
   "id": "476131cd-8b1c-4fd5-8bee-b61cbdb6df56",
   "metadata": {},
   "source": [
    "Hace falta compilar el simulador con los atómicos nuevos:"
   ]
  },
  {
   "cell_type": "code",
   "execution_count": null,
   "id": "42285ba6-b909-47ea-8e7b-95f44e8a35cf",
   "metadata": {
    "scrolled": true,
    "tags": []
   },
   "outputs": [],
   "source": [
    "%%bash \n",
    "\n",
    "cd src/\n",
    "\n",
    "make"
   ]
  },
  {
   "cell_type": "markdown",
   "id": "b232a1f2-0579-45d7-a397-aa0ec4b93503",
   "metadata": {},
   "source": [
    "## Atómico Producto"
   ]
  },
  {
   "cell_type": "code",
   "execution_count": null,
   "id": "478860c7-7264-43a0-9b7c-f82e2891a481",
   "metadata": {},
   "outputs": [],
   "source": [
    "%%bash\n",
    "\n",
    "cat model/test_product.ma"
   ]
  },
  {
   "cell_type": "code",
   "execution_count": null,
   "id": "c0cb55c4-85e7-4e61-8a99-f43caabd8a10",
   "metadata": {},
   "outputs": [],
   "source": [
    "%%bash\n",
    "\n",
    "cat model/test_product.ev"
   ]
  },
  {
   "cell_type": "code",
   "execution_count": null,
   "id": "0237d06b-f357-44a8-946b-3f72b6f13d6c",
   "metadata": {},
   "outputs": [],
   "source": [
    "%%bash\n",
    "\n",
    "src/bin/cd++ -m model/test_product.ma \\\n",
    "             -t 10:00:00:000 \\\n",
    "             -l test_product.log \\\n",
    "             -o test_product.out \\\n",
    "             -e model/test_product.ev"
   ]
  },
  {
   "cell_type": "code",
   "execution_count": null,
   "id": "2ebb03d9-ac2e-4a0c-9aca-0dcbb226e064",
   "metadata": {},
   "outputs": [],
   "source": [
    "%%bash\n",
    "\n",
    "cat model.out"
   ]
  },
  {
   "cell_type": "markdown",
   "id": "84d1c601-499c-4bd2-8936-bcead4124e7e",
   "metadata": {},
   "source": [
    "## Atomico Mercado"
   ]
  },
  {
   "cell_type": "code",
   "execution_count": 3,
   "id": "165c5fc6-8973-4dc8-a5c5-56f4e6b0c23f",
   "metadata": {},
   "outputs": [
    {
     "name": "stdout",
     "output_type": "stream",
     "text": [
      "[top]\n",
      "components : market@Market\n",
      "in : in0, in1\n",
      "out : out_port\n",
      "link : in0 in0@market\n",
      "link : in1 in1@market\n",
      "link : out0@market out_port\n",
      "\n",
      "[market]\n",
      "quantity : 2"
     ]
    }
   ],
   "source": [
    "%%bash\n",
    "\n",
    "cat model/test_market.ma"
   ]
  },
  {
   "cell_type": "code",
   "execution_count": 4,
   "id": "9b9ef4ff-f433-420b-87c0-c591c75c9c4d",
   "metadata": {},
   "outputs": [
    {
     "name": "stdout",
     "output_type": "stream",
     "text": [
      "00:00:00:00 in0 1\n",
      "01:00:00:00 in1 2\n",
      "02:00:00:00 in0 3\n",
      "03:00:00:00 in1 4\n",
      "04:00:00:00 in1 5\n"
     ]
    }
   ],
   "source": [
    "%%bash\n",
    "\n",
    "cat model/test_market.ev"
   ]
  },
  {
   "cell_type": "code",
   "execution_count": 26,
   "id": "32d093ca-dd54-4210-8458-8a30a89df9c0",
   "metadata": {},
   "outputs": [
    {
     "name": "stdout",
     "output_type": "stream",
     "text": [
      "PCD++: A Tool to Implement n-Dimensional Cell-DEVS models\n",
      "Version 3.0 - March 2003\n",
      "Troccoli A., Rodriguez D., Wainer G., Barylko A., Beyoglonian J., Lopez A.\n",
      "-----------------------------------------------------------------------------\n",
      "PCD++ Extended States: An extended and improved version of CD++ for Cell-DEVS\n",
      "Version 4.1.2 - December 2018\n",
      "Santi L., Castro, R., Pimás, J.\n",
      "-----------------------------------------------------------------------------\n",
      "Discrete Event Simulation Lab\n",
      "Departamento de Computación\n",
      "Facultad de Ciencias Exactas y Naturales\n",
      "Universidad de Buenos Aires, Argentina\n",
      "-----------------------------------------------------------------------------\n",
      "Compiled for standalone simulation\n",
      "\n",
      "\n",
      "Loading models from model/test_market.ma\n",
      "Loading events from model/test_market.ev\n",
      "Running parallel simulation. Reading models partition from \n",
      "Model partition details output to: /dev/null*\n",
      "Message log: test_market.log\n",
      "Output to: test_market.out\n",
      "Tolerance set to: 1e-08\n",
      "Configuration to show real numbers: Width = 12 - Precision = 5\n",
      "Quantum: Not used\n",
      "Evaluate Debug Mode = OFF\n",
      "Flat Cell Debug Mode = OFF\n",
      "Debug Cell Rules Mode = OFF\n",
      "Temporary File created by Preprocessor = /tmp/fileBNZxOK\n",
      "Printing parser information = OFF\n",
      "\n",
      "Stop at time: 05:00:00:000:0\n",
      "PUERTO: in0\n",
      "PUERTO: in1\n",
      "LP 0: initializing simulation objects\n",
      "00:00:00:000:0 / input0 /      1.00000\n",
      "01:00:00:000:0 / input1 /      2.00000\n",
      "02:00:00:000:0 / input0 /      3.00000\n",
      "03:00:00:000:0 / input1 /      4.00000\n",
      "04:00:00:000:0 / input1 /      5.00000\n",
      "LP 0: starting simulation (NoTime).\n",
      "Simulation complete!\n",
      "Simulation ended!\n",
      "LP 0 has finished simulation \n"
     ]
    }
   ],
   "source": [
    "%%bash\n",
    "\n",
    "src/bin/cd++ -m model/test_market.ma \\\n",
    "             -t 05:00:00:000 \\\n",
    "             -l test_market.log \\\n",
    "             -o test_market.out \\\n",
    "             -e model/test_market.ev"
   ]
  },
  {
   "cell_type": "code",
   "execution_count": 12,
   "id": "8a4a5dae-a365-474f-b1be-f0555ecaa063",
   "metadata": {},
   "outputs": [
    {
     "name": "stdout",
     "output_type": "stream",
     "text": [
      "00:00:00:000:0 out_port      1.00000\n",
      "01:00:00:000:0 out_port      2.00000\n",
      "02:00:00:000:0 out_port      3.00000\n",
      "03:00:00:000:0 out_port      4.00000\n",
      "04:00:00:000:0 out_port      5.00000\n"
     ]
    }
   ],
   "source": [
    "%%bash\n",
    "\n",
    "cat test_market.out"
   ]
  },
  {
   "cell_type": "code",
   "execution_count": 25,
   "id": "1411f76f-20a6-4adb-bf58-2f47834d214d",
   "metadata": {},
   "outputs": [
    {
     "name": "stdout",
     "output_type": "stream",
     "text": [
      "0 / L / I / 00:00:00:000:0 / ParallelRoot(00) / top(02)\n",
      "0 / L / D / 00:00:00:000:0 / market(01) / ... / top(02)\n",
      "0 / L / X / 00:00:00:000:0 / ParallelRoot(00) / input0 /      1.00000 / top(02)\n",
      "0 / L / * / 00:00:00:000:0 / ParallelRoot(00) / top(02)\n",
      "0 / L / D / 00:00:00:000:0 / market(01) / 00:00:00:000:0 / top(02)\n",
      "0 / L / @ / 00:00:00:000:0 / ParallelRoot(00) / top(02)\n",
      "0 / L / Y / 00:00:00:000:0 / market(01) / out0 /      1.00000 / top(02)\n",
      "0 / L / D / 00:00:00:000:0 / market(01) / 00:00:00:000:0 / top(02)\n",
      "0 / L / * / 00:00:00:000:0 / ParallelRoot(00) / top(02)\n",
      "0 / L / D / 00:00:00:000:0 / market(01) / ... / top(02)\n",
      "0 / L / X / 01:00:00:000:0 / ParallelRoot(00) / input1 /      2.00000 / top(02)\n",
      "0 / L / * / 01:00:00:000:0 / ParallelRoot(00) / top(02)\n",
      "0 / L / D / 01:00:00:000:0 / market(01) / 00:00:00:000:0 / top(02)\n",
      "0 / L / @ / 01:00:00:000:0 / ParallelRoot(00) / top(02)\n",
      "0 / L / Y / 01:00:00:000:0 / market(01) / out0 /      2.00000 / top(02)\n",
      "0 / L / D / 01:00:00:000:0 / market(01) / 00:00:00:000:0 / top(02)\n",
      "0 / L / * / 01:00:00:000:0 / ParallelRoot(00) / top(02)\n",
      "0 / L / D / 01:00:00:000:0 / market(01) / ... / top(02)\n",
      "0 / L / X / 02:00:00:000:0 / ParallelRoot(00) / input0 /      3.00000 / top(02)\n",
      "0 / L / * / 02:00:00:000:0 / ParallelRoot(00) / top(02)\n",
      "0 / L / D / 02:00:00:000:0 / market(01) / 00:00:00:000:0 / top(02)\n",
      "0 / L / @ / 02:00:00:000:0 / ParallelRoot(00) / top(02)\n",
      "0 / L / Y / 02:00:00:000:0 / market(01) / out0 /      3.00000 / top(02)\n",
      "0 / L / D / 02:00:00:000:0 / market(01) / 00:00:00:000:0 / top(02)\n",
      "0 / L / * / 02:00:00:000:0 / ParallelRoot(00) / top(02)\n",
      "0 / L / D / 02:00:00:000:0 / market(01) / ... / top(02)\n",
      "0 / L / X / 03:00:00:000:0 / ParallelRoot(00) / input1 /      4.00000 / top(02)\n",
      "0 / L / * / 03:00:00:000:0 / ParallelRoot(00) / top(02)\n",
      "0 / L / D / 03:00:00:000:0 / market(01) / 00:00:00:000:0 / top(02)\n",
      "0 / L / @ / 03:00:00:000:0 / ParallelRoot(00) / top(02)\n",
      "0 / L / Y / 03:00:00:000:0 / market(01) / out0 /      4.00000 / top(02)\n",
      "0 / L / D / 03:00:00:000:0 / market(01) / 00:00:00:000:0 / top(02)\n",
      "0 / L / * / 03:00:00:000:0 / ParallelRoot(00) / top(02)\n",
      "0 / L / D / 03:00:00:000:0 / market(01) / ... / top(02)\n",
      "0 / L / X / 04:00:00:000:0 / ParallelRoot(00) / input1 /      5.00000 / top(02)\n",
      "0 / L / * / 04:00:00:000:0 / ParallelRoot(00) / top(02)\n",
      "0 / L / D / 04:00:00:000:0 / market(01) / 00:00:00:000:0 / top(02)\n",
      "0 / L / @ / 04:00:00:000:0 / ParallelRoot(00) / top(02)\n",
      "0 / L / Y / 04:00:00:000:0 / market(01) / out0 /      5.00000 / top(02)\n",
      "0 / L / D / 04:00:00:000:0 / market(01) / 00:00:00:000:0 / top(02)\n",
      "0 / L / * / 04:00:00:000:0 / ParallelRoot(00) / top(02)\n",
      "0 / L / D / 04:00:00:000:0 / market(01) / ... / top(02)\n"
     ]
    }
   ],
   "source": [
    "%%bash\n",
    "\n",
    "cat test_market.log02"
   ]
  },
  {
   "cell_type": "code",
   "execution_count": null,
   "id": "2e447198-10c3-44ec-bfa2-dcf2005e58ee",
   "metadata": {},
   "outputs": [],
   "source": []
  }
 ],
 "metadata": {
  "kernelspec": {
   "display_name": "Python 3 (ipykernel)",
   "language": "python",
   "name": "python3"
  },
  "language_info": {
   "codemirror_mode": {
    "name": "ipython",
    "version": 3
   },
   "file_extension": ".py",
   "mimetype": "text/x-python",
   "name": "python",
   "nbconvert_exporter": "python",
   "pygments_lexer": "ipython3",
   "version": "3.9.7"
  }
 },
 "nbformat": 4,
 "nbformat_minor": 5
}
