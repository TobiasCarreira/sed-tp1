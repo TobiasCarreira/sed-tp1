{
 "cells": [
  {
   "cell_type": "markdown",
   "source": [
    "# Simulación de Eventos Discretos - TP1\n",
    "\n",
    "TODO: explicar modelo conceptual"
   ],
   "metadata": {}
  },
  {
   "cell_type": "markdown",
   "source": [
    "Hace falta compilar el simulador con los atómicos nuevos:"
   ],
   "metadata": {}
  },
  {
   "cell_type": "code",
   "execution_count": null,
   "source": [
    "%%bash \n",
    "\n",
    "cd src/\n",
    "\n",
    "make"
   ],
   "outputs": [],
   "metadata": {
    "scrolled": true,
    "tags": []
   }
  },
  {
   "cell_type": "markdown",
   "source": [
    "## Atómico Producto"
   ],
   "metadata": {}
  },
  {
   "cell_type": "code",
   "execution_count": null,
   "source": [
    "%%bash\n",
    "\n",
    "cat model/test_product.ma"
   ],
   "outputs": [],
   "metadata": {}
  },
  {
   "cell_type": "code",
   "execution_count": null,
   "source": [
    "%%bash\n",
    "\n",
    "cat model/test_product.ev"
   ],
   "outputs": [],
   "metadata": {}
  },
  {
   "cell_type": "code",
   "execution_count": null,
   "source": [
    "%%bash\n",
    "\n",
    "src/bin/cd++ -m model/test_product.ma \\\n",
    "             -t 10:00:00:000 \\\n",
    "             -l test_product.log \\\n",
    "             -o test_product.out \\\n",
    "             -e model/test_product.ev"
   ],
   "outputs": [],
   "metadata": {}
  },
  {
   "cell_type": "code",
   "execution_count": null,
   "source": [
    "%%bash\n",
    "\n",
    "cat model.out"
   ],
   "outputs": [],
   "metadata": {}
  },
  {
   "cell_type": "markdown",
   "source": [
    "## Atomico Mercado"
   ],
   "metadata": {}
  },
  {
   "cell_type": "code",
   "execution_count": null,
   "source": [
    "%%bash\n",
    "\n",
    "cat model/test_market.ma"
   ],
   "outputs": [],
   "metadata": {}
  },
  {
   "cell_type": "code",
   "execution_count": null,
   "source": [
    "%%bash\n",
    "\n",
    "cat model/test_market.ev"
   ],
   "outputs": [],
   "metadata": {}
  },
  {
   "cell_type": "code",
   "execution_count": 17,
   "source": [
    "%%bash\n",
    "\n",
    "src/bin/cd++ -m model/test_market.ma \\\n",
    "             -t 05:00:00:000 \\\n",
    "             -l test_market.log \\\n",
    "             -o test_market.out \\"
   ],
   "outputs": [
    {
     "output_type": "stream",
     "name": "stdout",
     "text": [
      "PCD++: A Tool to Implement n-Dimensional Cell-DEVS models\n",
      "Version 3.0 - March 2003\n",
      "Troccoli A., Rodriguez D., Wainer G., Barylko A., Beyoglonian J., Lopez A.\n",
      "-----------------------------------------------------------------------------\n",
      "PCD++ Extended States: An extended and improved version of CD++ for Cell-DEVS\n",
      "Version 4.1.2 - December 2018\n",
      "Santi L., Castro, R., Pimás, J.\n",
      "-----------------------------------------------------------------------------\n",
      "Discrete Event Simulation Lab\n",
      "Departamento de Computación\n",
      "Facultad de Ciencias Exactas y Naturales\n",
      "Universidad de Buenos Aires, Argentina\n",
      "-----------------------------------------------------------------------------\n",
      "Compiled for standalone simulation\n",
      "\n",
      "\n",
      "Loading models from model/test_market.ma\n",
      "Loading events from \n",
      "Running parallel simulation. Reading models partition from \n",
      "Model partition details output to: /dev/null*\n",
      "Message log: test_market.log\n",
      "Output to: test_market.out\n",
      "Tolerance set to: 1e-08\n",
      "Configuration to show real numbers: Width = 12 - Precision = 5\n",
      "Quantum: Not used\n",
      "Evaluate Debug Mode = OFF\n",
      "Flat Cell Debug Mode = OFF\n",
      "Debug Cell Rules Mode = OFF\n",
      "Temporary File created by Preprocessor = /tmp/fileKruxFx\n",
      "Printing parser information = OFF\n",
      "\n",
      "Stop at time: 05:00:00:000:0\n",
      "LP 0: initializing simulation objects\n",
      "LP 0: starting simulation (NoTime).\n",
      "Simulation complete!\n",
      "Simulation ended!\n",
      "LP 0 has finished simulation \n"
     ]
    },
    {
     "output_type": "stream",
     "name": "stderr",
     "text": []
    }
   ],
   "metadata": {}
  },
  {
   "cell_type": "code",
   "execution_count": 18,
   "source": [
    "%%bash\n",
    "\n",
    "cat test_market.out"
   ],
   "outputs": [
    {
     "output_type": "stream",
     "name": "stdout",
     "text": [
      "00:00:00:000:0 supply_p0   1000.00000\n",
      "00:00:00:000:0 supply_p1   1000.00000\n",
      "01:00:00:000:0 supply_p0   1000.00000\n",
      "01:00:00:000:0 supply_p1   1000.00000\n",
      "02:00:00:000:0 supply_p0   1000.00000\n",
      "02:00:00:000:0 supply_p1   1000.00000\n",
      "03:00:00:000:0 supply_p0   1000.00000\n",
      "03:00:00:000:0 supply_p1   1000.00000\n",
      "04:00:00:000:0 supply_p0   1000.00000\n",
      "04:00:00:000:0 supply_p1   1000.00000\n",
      "05:00:00:000:0 supply_p0   1000.00000\n",
      "05:00:00:000:0 supply_p1   1000.00000\n"
     ]
    }
   ],
   "metadata": {}
  },
  {
   "cell_type": "code",
   "execution_count": 16,
   "source": [
    "%%bash\n",
    "\n",
    "cat test_market.log02"
   ],
   "outputs": [
    {
     "output_type": "stream",
     "name": "stdout",
     "text": [
      "0 / L / I / 00:00:00:000:0 / top(05) / country(02)\n",
      "0 / L / @ / 00:00:00:000:0 / top(05) / country(02)\n",
      "0 / L / * / 00:00:00:000:0 / top(05) / country(02)\n",
      "0 / L / X / 00:00:00:000:0 / top(05) / demand / [1000, 1000] / country(02)\n",
      "0 / L / * / 00:00:00:000:0 / top(05) / country(02)\n",
      "0 / L / @ / 00:00:00:000:0 / top(05) / country(02)\n",
      "0 / L / * / 00:00:00:000:0 / top(05) / country(02)\n",
      "0 / L / X / 00:00:00:000:0 / top(05) / demand / [1000, 1000] / country(02)\n",
      "0 / L / * / 00:00:00:000:0 / top(05) / country(02)\n",
      "0 / L / @ / 00:00:00:000:0 / top(05) / country(02)\n",
      "0 / L / * / 00:00:00:000:0 / top(05) / country(02)\n",
      "0 / L / X / 01:00:00:000:0 / top(05) / demand / [1000, 1000] / country(02)\n",
      "0 / L / * / 01:00:00:000:0 / top(05) / country(02)\n",
      "0 / L / @ / 01:00:00:000:0 / top(05) / country(02)\n",
      "0 / L / * / 01:00:00:000:0 / top(05) / country(02)\n",
      "0 / L / X / 01:00:00:000:0 / top(05) / demand / [1000, 1000] / country(02)\n",
      "0 / L / * / 01:00:00:000:0 / top(05) / country(02)\n",
      "0 / L / @ / 01:00:00:000:0 / top(05) / country(02)\n",
      "0 / L / * / 01:00:00:000:0 / top(05) / country(02)\n",
      "0 / L / X / 02:00:00:000:0 / top(05) / demand / [1000, 1000] / country(02)\n",
      "0 / L / * / 02:00:00:000:0 / top(05) / country(02)\n",
      "0 / L / @ / 02:00:00:000:0 / top(05) / country(02)\n",
      "0 / L / * / 02:00:00:000:0 / top(05) / country(02)\n",
      "0 / L / X / 02:00:00:000:0 / top(05) / demand / [1000, 1000] / country(02)\n",
      "0 / L / * / 02:00:00:000:0 / top(05) / country(02)\n",
      "0 / L / @ / 02:00:00:000:0 / top(05) / country(02)\n",
      "0 / L / * / 02:00:00:000:0 / top(05) / country(02)\n",
      "0 / L / X / 03:00:00:000:0 / top(05) / demand / [1000, 1000] / country(02)\n",
      "0 / L / * / 03:00:00:000:0 / top(05) / country(02)\n",
      "0 / L / @ / 03:00:00:000:0 / top(05) / country(02)\n",
      "0 / L / * / 03:00:00:000:0 / top(05) / country(02)\n",
      "0 / L / X / 03:00:00:000:0 / top(05) / demand / [1000, 1000] / country(02)\n",
      "0 / L / * / 03:00:00:000:0 / top(05) / country(02)\n",
      "0 / L / @ / 03:00:00:000:0 / top(05) / country(02)\n",
      "0 / L / * / 03:00:00:000:0 / top(05) / country(02)\n",
      "0 / L / X / 04:00:00:000:0 / top(05) / demand / [1000, 1000] / country(02)\n",
      "0 / L / * / 04:00:00:000:0 / top(05) / country(02)\n",
      "0 / L / @ / 04:00:00:000:0 / top(05) / country(02)\n",
      "0 / L / * / 04:00:00:000:0 / top(05) / country(02)\n",
      "0 / L / X / 04:00:00:000:0 / top(05) / demand / [1000, 1000] / country(02)\n",
      "0 / L / * / 04:00:00:000:0 / top(05) / country(02)\n",
      "0 / L / @ / 04:00:00:000:0 / top(05) / country(02)\n",
      "0 / L / * / 04:00:00:000:0 / top(05) / country(02)\n",
      "0 / L / X / 05:00:00:000:0 / top(05) / demand / [1000, 1000] / country(02)\n",
      "0 / L / * / 05:00:00:000:0 / top(05) / country(02)\n",
      "0 / L / @ / 05:00:00:000:0 / top(05) / country(02)\n",
      "0 / L / * / 05:00:00:000:0 / top(05) / country(02)\n",
      "0 / L / X / 05:00:00:000:0 / top(05) / demand / [1000, 1000] / country(02)\n",
      "0 / L / * / 05:00:00:000:0 / top(05) / country(02)\n",
      "0 / L / @ / 05:00:00:000:0 / top(05) / country(02)\n",
      "0 / L / * / 05:00:00:000:0 / top(05) / country(02)\n"
     ]
    }
   ],
   "metadata": {}
  },
  {
   "cell_type": "markdown",
   "source": [
    "## Atómico Pais"
   ],
   "metadata": {}
  },
  {
   "cell_type": "code",
   "execution_count": null,
   "source": [
    "%%bash\n",
    "\n",
    "cat model/test_country.ma"
   ],
   "outputs": [],
   "metadata": {}
  },
  {
   "cell_type": "code",
   "execution_count": null,
   "source": [
    "%%bash\n",
    "\n",
    "cat model/test_country.ev"
   ],
   "outputs": [],
   "metadata": {}
  },
  {
   "cell_type": "code",
   "execution_count": 1,
   "source": [
    "%%bash\n",
    "\n",
    "src/bin/cd++ -m model/test_country.ma \\\n",
    "             -t 05:00:00:000 \\\n",
    "             -l test_country.log \\\n",
    "             -o test_country.out \\\n",
    "             -e model/test_country.ev"
   ],
   "outputs": [
    {
     "output_type": "stream",
     "name": "stdout",
     "text": [
      "PCD++: A Tool to Implement n-Dimensional Cell-DEVS models\n",
      "Version 3.0 - March 2003\n",
      "Troccoli A., Rodriguez D., Wainer G., Barylko A., Beyoglonian J., Lopez A.\n",
      "-----------------------------------------------------------------------------\n",
      "PCD++ Extended States: An extended and improved version of CD++ for Cell-DEVS\n",
      "Version 4.1.2 - December 2018\n",
      "Santi L., Castro, R., Pimás, J.\n",
      "-----------------------------------------------------------------------------\n",
      "Discrete Event Simulation Lab\n",
      "Departamento de Computación\n",
      "Facultad de Ciencias Exactas y Naturales\n",
      "Universidad de Buenos Aires, Argentina\n",
      "-----------------------------------------------------------------------------\n",
      "Compiled for standalone simulation\n",
      "\n",
      "\n",
      "Loading models from model/test_country.ma\n",
      "Loading events from model/test_country.ev\n",
      "Running parallel simulation. Reading models partition from \n",
      "Model partition details output to: /dev/null*\n",
      "Message log: test_country.log\n",
      "Output to: test_country.out\n",
      "Tolerance set to: 1e-08\n",
      "Configuration to show real numbers: Width = 12 - Precision = 5\n",
      "Quantum: Not used\n",
      "Evaluate Debug Mode = OFF\n",
      "Flat Cell Debug Mode = OFF\n",
      "Debug Cell Rules Mode = OFF\n",
      "Temporary File created by Preprocessor = /tmp/fileJB9lo0\n",
      "Printing parser information = OFF\n",
      "\n",
      "Stop at time: 05:00:00:000:0\n",
      "LP 0: initializing simulation objects\n",
      "00:00:00:000:0 / in / [2000, 3000, 0, 0, 8500]\n",
      "01:00:00:000:0 / in / [2100, 3200, 100, 200, 8600]\n",
      "02:00:00:000:0 / in / [2200, 3100, 200, 300, 8400]\n",
      "03:00:00:000:0 / in / [2500, 3050, 700, 360, 8000]\n",
      "04:00:00:000:0 / in / [2800, 3000, 600, 410, 7500]\n",
      "LP 0: starting simulation (NoTime).\n",
      "Simulation complete!\n",
      "Simulation ended!\n",
      "LP 0 has finished simulation \n"
     ]
    }
   ],
   "metadata": {}
  },
  {
   "cell_type": "code",
   "execution_count": 2,
   "source": [
    "%%bash\n",
    "\n",
    "cat test_country.out"
   ],
   "outputs": [
    {
     "output_type": "stream",
     "name": "stdout",
     "text": [
      "00:00:00:000:0 out [1800, 3100, 0, 0, 8000]\n",
      "00:00:00:000:0 out [2000, 3000, 0, 0, 8500]\n",
      "01:00:00:000:0 out [2100, 3200, 100, 200, 8600]\n",
      "02:00:00:000:0 out [2200, 3100, 200, 300, 8400]\n",
      "03:00:00:000:0 out [2500, 3050, 700, 360, 8000]\n",
      "04:00:00:000:0 out [2800, 3000, 600, 410, 7500]\n"
     ]
    }
   ],
   "metadata": {}
  }
 ],
 "metadata": {
  "kernelspec": {
   "name": "python3",
   "display_name": "Python 3.8.5 64-bit ('sed': virtualenv)"
  },
  "language_info": {
   "codemirror_mode": {
    "name": "ipython",
    "version": 3
   },
   "file_extension": ".py",
   "mimetype": "text/x-python",
   "name": "python",
   "nbconvert_exporter": "python",
   "pygments_lexer": "ipython3",
   "version": "3.8.5"
  },
  "interpreter": {
   "hash": "2ce2edf491a47315468e3516cd7380c8ddf250046eaa25aa49db74dbcc80eb2f"
  }
 },
 "nbformat": 4,
 "nbformat_minor": 5
}