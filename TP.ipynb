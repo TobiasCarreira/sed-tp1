{
 "cells": [
  {
   "cell_type": "code",
   "execution_count": null,
   "id": "42285ba6-b909-47ea-8e7b-95f44e8a35cf",
   "metadata": {
    "scrolled": true,
    "tags": []
   },
   "outputs": [],
   "source": [
    "%%bash \n",
    "\n",
    "cd src/\n",
    "\n",
    "make"
   ]
  },
  {
   "cell_type": "code",
   "execution_count": null,
   "id": "478860c7-7264-43a0-9b7c-f82e2891a481",
   "metadata": {},
   "outputs": [],
   "source": [
    "%%bash\n",
    "\n",
    "cat model/test_product.ma"
   ]
  },
  {
   "cell_type": "code",
   "execution_count": null,
   "id": "c0cb55c4-85e7-4e61-8a99-f43caabd8a10",
   "metadata": {},
   "outputs": [],
   "source": [
    "%%bash\n",
    "\n",
    "cat model/test_product.ev"
   ]
  },
  {
   "cell_type": "code",
   "execution_count": null,
   "id": "0237d06b-f357-44a8-946b-3f72b6f13d6c",
   "metadata": {},
   "outputs": [],
   "source": [
    "%%bash\n",
    "\n",
    "src/bin/cd++ -m model/test_product.ma \\\n",
    "             -t 10:00:00:000 \\\n",
    "             -l model.log \\\n",
    "             -o model.out \\\n",
    "             -e model/test_product.ev"
   ]
  },
  {
   "cell_type": "code",
   "execution_count": null,
   "id": "2ebb03d9-ac2e-4a0c-9aca-0dcbb226e064",
   "metadata": {},
   "outputs": [],
   "source": [
    "%%bash\n",
    "\n",
    "cat model.out"
   ]
  },
  {
   "cell_type": "code",
   "execution_count": null,
   "id": "43c5cf00-8ee4-403c-9ff3-af83b8f1f154",
   "metadata": {},
   "outputs": [],
   "source": []
  }
 ],
 "metadata": {
  "kernelspec": {
   "display_name": "Python 3 (ipykernel)",
   "language": "python",
   "name": "python3"
  },
  "language_info": {
   "codemirror_mode": {
    "name": "ipython",
    "version": 3
   },
   "file_extension": ".py",
   "mimetype": "text/x-python",
   "name": "python",
   "nbconvert_exporter": "python",
   "pygments_lexer": "ipython3",
   "version": "3.9.7"
  }
 },
 "nbformat": 4,
 "nbformat_minor": 5
}
