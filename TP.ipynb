{
 "cells": [
  {
   "cell_type": "markdown",
   "id": "c66a70d8-6096-4d0d-a1f7-98f223b84004",
   "metadata": {},
   "source": [
    "# Simulación de Eventos Discretos - TP1\n",
    "\n",
    "TODO: explicar modelo conceptual"
   ]
  },
  {
   "cell_type": "markdown",
   "id": "476131cd-8b1c-4fd5-8bee-b61cbdb6df56",
   "metadata": {},
   "source": [
    "Hace falta compilar el simulador con los atómicos nuevos:"
   ]
  },
  {
   "cell_type": "code",
   "execution_count": null,
   "id": "42285ba6-b909-47ea-8e7b-95f44e8a35cf",
   "metadata": {
    "scrolled": true,
    "tags": []
   },
   "outputs": [],
   "source": [
    "%%bash \n",
    "\n",
    "cd src/\n",
    "\n",
    "make"
   ]
  },
  {
   "cell_type": "markdown",
   "id": "b232a1f2-0579-45d7-a397-aa0ec4b93503",
   "metadata": {},
   "source": [
    "## Atómico Producto"
   ]
  },
  {
   "cell_type": "code",
   "execution_count": null,
   "id": "478860c7-7264-43a0-9b7c-f82e2891a481",
   "metadata": {},
   "outputs": [],
   "source": [
    "%%bash\n",
    "\n",
    "cat model/test_product.ma"
   ]
  },
  {
   "cell_type": "code",
   "execution_count": null,
   "id": "c0cb55c4-85e7-4e61-8a99-f43caabd8a10",
   "metadata": {},
   "outputs": [],
   "source": [
    "%%bash\n",
    "\n",
    "cat model/test_product.ev"
   ]
  },
  {
   "cell_type": "code",
   "execution_count": null,
   "id": "0237d06b-f357-44a8-946b-3f72b6f13d6c",
   "metadata": {},
   "outputs": [],
   "source": [
    "%%bash\n",
    "\n",
    "src/bin/cd++ -m model/test_product.ma \\\n",
    "             -t 10:00:00:000 \\\n",
    "             -l test_product.log \\\n",
    "             -o test_product.out \\\n",
    "             -e model/test_product.ev"
   ]
  },
  {
   "cell_type": "code",
   "execution_count": null,
   "id": "2ebb03d9-ac2e-4a0c-9aca-0dcbb226e064",
   "metadata": {},
   "outputs": [],
   "source": [
    "%%bash\n",
    "\n",
    "cat model.out"
   ]
  },
  {
   "cell_type": "markdown",
   "id": "84d1c601-499c-4bd2-8936-bcead4124e7e",
   "metadata": {},
   "source": [
    "## Atomico Mercado"
   ]
  },
  {
   "cell_type": "code",
   "execution_count": null,
   "id": "165c5fc6-8973-4dc8-a5c5-56f4e6b0c23f",
   "metadata": {},
   "outputs": [],
   "source": [
    "%%bash\n",
    "\n",
    "cat model/test_market.ma"
   ]
  },
  {
   "cell_type": "code",
   "execution_count": null,
   "id": "9b9ef4ff-f433-420b-87c0-c591c75c9c4d",
   "metadata": {},
   "outputs": [],
   "source": [
    "%%bash\n",
    "\n",
    "cat model/test_market.ev"
   ]
  },
  {
   "cell_type": "code",
   "execution_count": null,
   "id": "32d093ca-dd54-4210-8458-8a30a89df9c0",
   "metadata": {},
   "outputs": [],
   "source": [
    "%%bash\n",
    "\n",
    "src/bin/cd++ -m model/test_market.ma \\\n",
    "             -t 05:00:00:000 \\\n",
    "             -l test_market.log \\\n",
    "             -o test_market.out \\\n",
    "             -e model/test_market.ev"
   ]
  },
  {
   "cell_type": "code",
   "execution_count": null,
   "id": "8a4a5dae-a365-474f-b1be-f0555ecaa063",
   "metadata": {},
   "outputs": [],
   "source": [
    "%%bash\n",
    "\n",
    "cat test_market.out"
   ]
  },
  {
   "cell_type": "code",
   "execution_count": null,
   "id": "1411f76f-20a6-4adb-bf58-2f47834d214d",
   "metadata": {},
   "outputs": [],
   "source": [
    "%%bash\n",
    "\n",
    "cat test_market.log02"
   ]
  },
  {
   "cell_type": "markdown",
   "id": "2cb329ee-5684-47fe-9226-530a190ae786",
   "metadata": {},
   "source": [
    "## Atómico Pais"
   ]
  },
  {
   "cell_type": "code",
   "execution_count": null,
   "id": "a0f76cab-f1fd-4465-8ed7-5c87a6849075",
   "metadata": {},
   "outputs": [],
   "source": [
    "%%bash\n",
    "\n",
    "cat model/test_country.ma"
   ]
  },
  {
   "cell_type": "code",
   "execution_count": null,
   "id": "37d4336e-5ef0-40a9-a2fa-513220d53cbf",
   "metadata": {},
   "outputs": [],
   "source": [
    "%%bash\n",
    "\n",
    "cat model/test_country.ev"
   ]
  },
  {
   "cell_type": "code",
   "execution_count": null,
   "id": "a70d527e-9fc2-4ef1-a6f9-c7c1430b8b90",
   "metadata": {},
   "outputs": [],
   "source": [
    "%%bash\n",
    "\n",
    "src/bin/cd++ -m model/test_country.ma \\\n",
    "             -t 05:00:00:000 \\\n",
    "             -l test_country.log \\\n",
    "             -o test_country.out \\\n",
    "             -e model/test_country.ev"
   ]
  },
  {
   "cell_type": "code",
   "execution_count": null,
   "id": "f494a09a-04b6-4f7a-9033-a4cc2e3d73a7",
   "metadata": {},
   "outputs": [],
   "source": []
  }
 ],
 "metadata": {
  "kernelspec": {
   "display_name": "Python 3 (ipykernel)",
   "language": "python",
   "name": "python3"
  },
  "language_info": {
   "codemirror_mode": {
    "name": "ipython",
    "version": 3
   },
   "file_extension": ".py",
   "mimetype": "text/x-python",
   "name": "python",
   "nbconvert_exporter": "python",
   "pygments_lexer": "ipython3",
   "version": "3.9.7"
  }
 },
 "nbformat": 4,
 "nbformat_minor": 5
}
